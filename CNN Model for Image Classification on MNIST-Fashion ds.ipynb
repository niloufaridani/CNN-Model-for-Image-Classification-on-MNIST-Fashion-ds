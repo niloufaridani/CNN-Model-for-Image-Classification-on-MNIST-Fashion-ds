{
  "nbformat": 4,
  "nbformat_minor": 0,
  "metadata": {
    "colab": {
      "provenance": []
    },
    "kernelspec": {
      "name": "python3",
      "display_name": "Python 3"
    },
    "language_info": {
      "name": "python"
    },
    "accelerator": "GPU",
    "gpuClass": "standard"
  },
  "cells": [
    {
      "cell_type": "code",
      "execution_count": null,
      "metadata": {
        "colab": {
          "base_uri": "https://localhost:8080/"
        },
        "id": "XOcHxoriLyPF",
        "outputId": "20cef95e-2492-46c5-84ea-fde735c270a0"
      },
      "outputs": [
        {
          "output_type": "stream",
          "name": "stdout",
          "text": [
            "Tue Nov 22 07:15:44 2022       \n",
            "+-----------------------------------------------------------------------------+\n",
            "| NVIDIA-SMI 460.32.03    Driver Version: 460.32.03    CUDA Version: 11.2     |\n",
            "|-------------------------------+----------------------+----------------------+\n",
            "| GPU  Name        Persistence-M| Bus-Id        Disp.A | Volatile Uncorr. ECC |\n",
            "| Fan  Temp  Perf  Pwr:Usage/Cap|         Memory-Usage | GPU-Util  Compute M. |\n",
            "|                               |                      |               MIG M. |\n",
            "|===============================+======================+======================|\n",
            "|   0  Tesla T4            Off  | 00000000:00:04.0 Off |                    0 |\n",
            "| N/A   59C    P8    10W /  70W |      0MiB / 15109MiB |      0%      Default |\n",
            "|                               |                      |                  N/A |\n",
            "+-------------------------------+----------------------+----------------------+\n",
            "                                                                               \n",
            "+-----------------------------------------------------------------------------+\n",
            "| Processes:                                                                  |\n",
            "|  GPU   GI   CI        PID   Type   Process name                  GPU Memory |\n",
            "|        ID   ID                                                   Usage      |\n",
            "|=============================================================================|\n",
            "|  No running processes found                                                 |\n",
            "+-----------------------------------------------------------------------------+\n"
          ]
        }
      ],
      "source": [
        "!nvidia-smi"
      ]
    },
    {
      "cell_type": "code",
      "source": [
        "import numpy as np\n",
        "import pandas as pd\n",
        "import tensorflow as tf\n",
        "import matplotlib.pyplot as plt\n",
        "from keras.datasets import fashion_mnist\n",
        "from tensorflow.keras import models\n",
        "from tensorflow.keras.layers import Conv2D, MaxPooling2D, Dense, Flatten, Input, Dropout\n",
        "from tensorflow.keras.optimizers import Adam, Adadelta, Adagrad, RMSprop, SGD\n",
        "\n",
        "from sklearn.model_selection import train_test_split"
      ],
      "metadata": {
        "id": "oEkNsrMXMN9a"
      },
      "execution_count": 1,
      "outputs": []
    },
    {
      "cell_type": "markdown",
      "source": [
        "##LOAD DATASET"
      ],
      "metadata": {
        "id": "KWymX2alOwAN"
      }
    },
    {
      "cell_type": "code",
      "source": [
        "(trainX, trainY), (testX, testY) = fashion_mnist.load_data()\n",
        "\n",
        "x = np.concatenate((trainX, testX))\n",
        "y = np.concatenate((trainY, testY))\n",
        "\n",
        "np.random.seed(2019)\n",
        "train_size = 0.8\n",
        "index = np.random.rand(len(x)) < train_size  # boolean index\n",
        "trainX, testX = x[index], x[~index]  # index and it's negation\n",
        "trainY, testY = y[index], y[~index]\n",
        "\n",
        "\n",
        "print('Train: X = ', trainX.shape)\n",
        "print('Test: X = ', testX.shape)"
      ],
      "metadata": {
        "colab": {
          "base_uri": "https://localhost:8080/"
        },
        "id": "LvL-FohfMxD5",
        "outputId": "07268dce-7d3d-4c1a-8a98-54eaf409885b"
      },
      "execution_count": 2,
      "outputs": [
        {
          "output_type": "stream",
          "name": "stdout",
          "text": [
            "Downloading data from https://storage.googleapis.com/tensorflow/tf-keras-datasets/train-labels-idx1-ubyte.gz\n",
            "29515/29515 [==============================] - 0s 0us/step\n",
            "Downloading data from https://storage.googleapis.com/tensorflow/tf-keras-datasets/train-images-idx3-ubyte.gz\n",
            "26421880/26421880 [==============================] - 2s 0us/step\n",
            "Downloading data from https://storage.googleapis.com/tensorflow/tf-keras-datasets/t10k-labels-idx1-ubyte.gz\n",
            "5148/5148 [==============================] - 0s 0us/step\n",
            "Downloading data from https://storage.googleapis.com/tensorflow/tf-keras-datasets/t10k-images-idx3-ubyte.gz\n",
            "4422102/4422102 [==============================] - 0s 0us/step\n",
            "Train: X =  (55955, 28, 28)\n",
            "Test: X =  (14045, 28, 28)\n"
          ]
        }
      ]
    },
    {
      "cell_type": "markdown",
      "source": [
        "##Pre-Proccess on Data\n"
      ],
      "metadata": {
        "id": "WOCt4mj3Ui3X"
      }
    },
    {
      "cell_type": "code",
      "source": [
        "trainX = trainX/255\n",
        "testX = testX/255\n",
        "\n",
        "trainX = trainX.reshape(trainX.shape[0],28,28,1)\n",
        "testX = testX.reshape(testX.shape[0],28,28,1)"
      ],
      "metadata": {
        "id": "CC1mTi-HUXn5"
      },
      "execution_count": 3,
      "outputs": []
    },
    {
      "cell_type": "code",
      "source": [
        "print('Train: X = ', trainX.shape)\n",
        "print('Test: X = ', testX.shape)"
      ],
      "metadata": {
        "colab": {
          "base_uri": "https://localhost:8080/"
        },
        "id": "iqQ9pLSLU7rP",
        "outputId": "35df6f35-001d-4240-d51f-d05736803cd4"
      },
      "execution_count": 4,
      "outputs": [
        {
          "output_type": "stream",
          "name": "stdout",
          "text": [
            "Train: X =  (55955, 28, 28, 1)\n",
            "Test: X =  (14045, 28, 28, 1)\n"
          ]
        }
      ]
    },
    {
      "cell_type": "code",
      "source": [
        "trainY = tf.keras.utils.to_categorical(trainY,10)\n",
        "testY = tf.keras.utils.to_categorical(testY,10)\n",
        "\n",
        "print('Train: X = ', trainY[0])\n",
        "print('Test: X = ', testY.shape)"
      ],
      "metadata": {
        "colab": {
          "base_uri": "https://localhost:8080/"
        },
        "id": "mE2hrMHjYklx",
        "outputId": "efad863f-4493-47cd-aaa8-8cfa7227d99b"
      },
      "execution_count": 5,
      "outputs": [
        {
          "output_type": "stream",
          "name": "stdout",
          "text": [
            "Train: X =  [1. 0. 0. 0. 0. 0. 0. 0. 0. 0.]\n",
            "Test: X =  (14045, 10)\n"
          ]
        }
      ]
    },
    {
      "cell_type": "markdown",
      "source": [
        "##CREATE THE MODEL FOR FOURTH Architecture "
      ],
      "metadata": {
        "id": "JwoOuFP-PusQ"
      }
    },
    {
      "cell_type": "code",
      "source": [
        "def model_4th_arch(input_shape = (28,28,1), classes = 10):\n",
        "\n",
        "  X_input = Input(input_shape)\n",
        "  X = Conv2D(64, (2,2) , padding=\"same\", activation = 'relu')(X_input)\n",
        "  X = MaxPooling2D(pool_size=(2, 2))(X)\n",
        "  X = Dropout(0.25)(X)\n",
        "\n",
        "  X = Conv2D(64, (2,2),  padding=\"same\", activation = 'relu')(X)\n",
        "  X = MaxPooling2D(pool_size=(2, 2))(X)\n",
        "  X = Dropout(0.25)(X)\n",
        "\n",
        "  X = Conv2D(64, (2,2),  padding=\"same\", activation = 'relu')(X)\n",
        "  X = MaxPooling2D(pool_size=(2, 2))(X)\n",
        "  X = Dropout(0.25)(X)\n",
        "\n",
        "  X = Conv2D(64, (2,2),  padding=\"same\", activation = 'relu')(X)\n",
        "  X = Dropout(0.25)(X)\n",
        "  X = Flatten()(X)\n",
        "  X = Dense(64 , activation=\"relu\")(X)\n",
        "  X = Dropout(0.25)(X)\n",
        "  X = Dense(10 , activation = 'softmax')(X)\n",
        "\n",
        "##\n",
        "  model = models.Model(inputs = X_input, outputs = X)\n",
        "  return model\n",
        "  \n",
        "\n",
        "import keras.backend as K\n",
        "\n",
        "def f1_metric(y_true, y_pred):\n",
        "    true_positives = K.sum(K.round(K.clip(y_true * y_pred, 0, 1)))\n",
        "    possible_positives = K.sum(K.round(K.clip(y_true, 0, 1)))\n",
        "    predicted_positives = K.sum(K.round(K.clip(y_pred, 0, 1)))\n",
        "    precision = true_positives / (predicted_positives + K.epsilon())\n",
        "    recall = true_positives / (possible_positives + K.epsilon())\n",
        "    f1_val = 2*(precision*recall)/(precision+recall+K.epsilon())\n",
        "    return f1_val"
      ],
      "metadata": {
        "id": "ihUcT2b3PFSq"
      },
      "execution_count": 15,
      "outputs": []
    },
    {
      "cell_type": "code",
      "source": [
        "model = model_4th_arch()\n",
        "print(model.summary())"
      ],
      "metadata": {
        "colab": {
          "base_uri": "https://localhost:8080/"
        },
        "id": "h6M4Eqn4UA66",
        "outputId": "037799af-50d5-47fb-c1fd-3066b7c6025d"
      },
      "execution_count": 7,
      "outputs": [
        {
          "output_type": "stream",
          "name": "stdout",
          "text": [
            "Model: \"model\"\n",
            "_________________________________________________________________\n",
            " Layer (type)                Output Shape              Param #   \n",
            "=================================================================\n",
            " input_1 (InputLayer)        [(None, 28, 28, 1)]       0         \n",
            "                                                                 \n",
            " conv2d (Conv2D)             (None, 28, 28, 64)        320       \n",
            "                                                                 \n",
            " max_pooling2d (MaxPooling2D  (None, 14, 14, 64)       0         \n",
            " )                                                               \n",
            "                                                                 \n",
            " dropout (Dropout)           (None, 14, 14, 64)        0         \n",
            "                                                                 \n",
            " conv2d_1 (Conv2D)           (None, 14, 14, 64)        16448     \n",
            "                                                                 \n",
            " max_pooling2d_1 (MaxPooling  (None, 7, 7, 64)         0         \n",
            " 2D)                                                             \n",
            "                                                                 \n",
            " dropout_1 (Dropout)         (None, 7, 7, 64)          0         \n",
            "                                                                 \n",
            " conv2d_2 (Conv2D)           (None, 7, 7, 64)          16448     \n",
            "                                                                 \n",
            " max_pooling2d_2 (MaxPooling  (None, 3, 3, 64)         0         \n",
            " 2D)                                                             \n",
            "                                                                 \n",
            " dropout_2 (Dropout)         (None, 3, 3, 64)          0         \n",
            "                                                                 \n",
            " conv2d_3 (Conv2D)           (None, 3, 3, 64)          16448     \n",
            "                                                                 \n",
            " dropout_3 (Dropout)         (None, 3, 3, 64)          0         \n",
            "                                                                 \n",
            " flatten (Flatten)           (None, 576)               0         \n",
            "                                                                 \n",
            " dense (Dense)               (None, 64)                36928     \n",
            "                                                                 \n",
            " dropout_4 (Dropout)         (None, 64)                0         \n",
            "                                                                 \n",
            " dense_1 (Dense)             (None, 10)                650       \n",
            "                                                                 \n",
            "=================================================================\n",
            "Total params: 87,242\n",
            "Trainable params: 87,242\n",
            "Non-trainable params: 0\n",
            "_________________________________________________________________\n",
            "None\n"
          ]
        }
      ]
    },
    {
      "cell_type": "markdown",
      "source": [
        "###Train dataset with SGD optimizer"
      ],
      "metadata": {
        "id": "V-N8xuEKuALJ"
      }
    },
    {
      "cell_type": "code",
      "source": [
        "model.compile(optimizer = SGD(learning_rate=1e-3), loss = 'categorical_crossentropy', metrics = ['accuracy'])\n",
        "model.fit(trainX, trainY, epochs = 50, batch_size= 128)"
      ],
      "metadata": {
        "colab": {
          "base_uri": "https://localhost:8080/"
        },
        "id": "kUTauivOY3Bv",
        "outputId": "c4747c4d-de3c-4bf8-b6b2-f8a290c9b325"
      },
      "execution_count": null,
      "outputs": [
        {
          "output_type": "stream",
          "name": "stdout",
          "text": [
            "Epoch 1/50\n",
            "469/469 [==============================] - 12s 8ms/step - loss: 2.3038 - accuracy: 0.1020\n",
            "Epoch 2/50\n",
            "469/469 [==============================] - 4s 8ms/step - loss: 2.2952 - accuracy: 0.1171\n",
            "Epoch 3/50\n",
            "469/469 [==============================] - 4s 9ms/step - loss: 2.2876 - accuracy: 0.1276\n",
            "Epoch 4/50\n",
            "469/469 [==============================] - 4s 8ms/step - loss: 2.2781 - accuracy: 0.1376\n",
            "Epoch 5/50\n",
            "469/469 [==============================] - 4s 8ms/step - loss: 2.2664 - accuracy: 0.1495\n",
            "Epoch 6/50\n",
            "469/469 [==============================] - 4s 8ms/step - loss: 2.2490 - accuracy: 0.1602\n",
            "Epoch 7/50\n",
            "469/469 [==============================] - 4s 8ms/step - loss: 2.2230 - accuracy: 0.1812\n",
            "Epoch 8/50\n",
            "469/469 [==============================] - 4s 8ms/step - loss: 2.1854 - accuracy: 0.2020\n",
            "Epoch 9/50\n",
            "469/469 [==============================] - 4s 8ms/step - loss: 2.1241 - accuracy: 0.2288\n",
            "Epoch 10/50\n",
            "469/469 [==============================] - 4s 8ms/step - loss: 2.0327 - accuracy: 0.2603\n",
            "Epoch 11/50\n",
            "469/469 [==============================] - 4s 8ms/step - loss: 1.9215 - accuracy: 0.2888\n",
            "Epoch 12/50\n",
            "469/469 [==============================] - 4s 8ms/step - loss: 1.8128 - accuracy: 0.3181\n",
            "Epoch 13/50\n",
            "469/469 [==============================] - 4s 8ms/step - loss: 1.7192 - accuracy: 0.3451\n",
            "Epoch 14/50\n",
            "469/469 [==============================] - 4s 8ms/step - loss: 1.6461 - accuracy: 0.3657\n",
            "Epoch 15/50\n",
            "469/469 [==============================] - 4s 8ms/step - loss: 1.5876 - accuracy: 0.3838\n",
            "Epoch 16/50\n",
            "469/469 [==============================] - 4s 8ms/step - loss: 1.5370 - accuracy: 0.4003\n",
            "Epoch 17/50\n",
            "469/469 [==============================] - 4s 8ms/step - loss: 1.4919 - accuracy: 0.4144\n",
            "Epoch 18/50\n",
            "469/469 [==============================] - 4s 9ms/step - loss: 1.4578 - accuracy: 0.4259\n",
            "Epoch 19/50\n",
            "469/469 [==============================] - 4s 9ms/step - loss: 1.4282 - accuracy: 0.4327\n",
            "Epoch 20/50\n",
            "469/469 [==============================] - 4s 8ms/step - loss: 1.3964 - accuracy: 0.4441\n",
            "Epoch 21/50\n",
            "469/469 [==============================] - 4s 8ms/step - loss: 1.3686 - accuracy: 0.4553\n",
            "Epoch 22/50\n",
            "469/469 [==============================] - 4s 8ms/step - loss: 1.3512 - accuracy: 0.4594\n",
            "Epoch 23/50\n",
            "469/469 [==============================] - 4s 8ms/step - loss: 1.3230 - accuracy: 0.4721\n",
            "Epoch 24/50\n",
            "469/469 [==============================] - 4s 8ms/step - loss: 1.3066 - accuracy: 0.4792\n",
            "Epoch 25/50\n",
            "469/469 [==============================] - 4s 8ms/step - loss: 1.2847 - accuracy: 0.4870\n",
            "Epoch 26/50\n",
            "469/469 [==============================] - 4s 8ms/step - loss: 1.2653 - accuracy: 0.4934\n",
            "Epoch 27/50\n",
            "469/469 [==============================] - 4s 9ms/step - loss: 1.2513 - accuracy: 0.4976\n",
            "Epoch 28/50\n",
            "469/469 [==============================] - 4s 8ms/step - loss: 1.2329 - accuracy: 0.5058\n",
            "Epoch 29/50\n",
            "469/469 [==============================] - 4s 8ms/step - loss: 1.2193 - accuracy: 0.5105\n",
            "Epoch 30/50\n",
            "469/469 [==============================] - 4s 8ms/step - loss: 1.2073 - accuracy: 0.5129\n",
            "Epoch 31/50\n",
            "469/469 [==============================] - 4s 8ms/step - loss: 1.1962 - accuracy: 0.5198\n",
            "Epoch 32/50\n",
            "469/469 [==============================] - 4s 8ms/step - loss: 1.1808 - accuracy: 0.5286\n",
            "Epoch 33/50\n",
            "469/469 [==============================] - 4s 9ms/step - loss: 1.1683 - accuracy: 0.5314\n",
            "Epoch 34/50\n",
            "469/469 [==============================] - 4s 8ms/step - loss: 1.1581 - accuracy: 0.5318\n",
            "Epoch 35/50\n",
            "469/469 [==============================] - 4s 8ms/step - loss: 1.1462 - accuracy: 0.5423\n",
            "Epoch 36/50\n",
            "469/469 [==============================] - 4s 8ms/step - loss: 1.1315 - accuracy: 0.5480\n",
            "Epoch 37/50\n",
            "469/469 [==============================] - 4s 8ms/step - loss: 1.1225 - accuracy: 0.5542\n",
            "Epoch 38/50\n",
            "469/469 [==============================] - 4s 8ms/step - loss: 1.1137 - accuracy: 0.5571\n",
            "Epoch 39/50\n",
            "469/469 [==============================] - 4s 8ms/step - loss: 1.1038 - accuracy: 0.5639\n",
            "Epoch 40/50\n",
            "469/469 [==============================] - 4s 8ms/step - loss: 1.0956 - accuracy: 0.5659\n",
            "Epoch 41/50\n",
            "469/469 [==============================] - 4s 8ms/step - loss: 1.0818 - accuracy: 0.5729\n",
            "Epoch 42/50\n",
            "469/469 [==============================] - 4s 8ms/step - loss: 1.0732 - accuracy: 0.5779\n",
            "Epoch 43/50\n",
            "469/469 [==============================] - 4s 8ms/step - loss: 1.0670 - accuracy: 0.5817\n",
            "Epoch 44/50\n",
            "469/469 [==============================] - 4s 8ms/step - loss: 1.0583 - accuracy: 0.5839\n",
            "Epoch 45/50\n",
            "469/469 [==============================] - 4s 8ms/step - loss: 1.0441 - accuracy: 0.5914\n",
            "Epoch 46/50\n",
            "469/469 [==============================] - 4s 8ms/step - loss: 1.0373 - accuracy: 0.5963\n",
            "Epoch 47/50\n",
            "469/469 [==============================] - 4s 8ms/step - loss: 1.0282 - accuracy: 0.5968\n",
            "Epoch 48/50\n",
            "469/469 [==============================] - 4s 9ms/step - loss: 1.0215 - accuracy: 0.6014\n",
            "Epoch 49/50\n",
            "469/469 [==============================] - 4s 8ms/step - loss: 1.0122 - accuracy: 0.6040\n",
            "Epoch 50/50\n",
            "469/469 [==============================] - 4s 8ms/step - loss: 1.0069 - accuracy: 0.6059\n"
          ]
        },
        {
          "output_type": "execute_result",
          "data": {
            "text/plain": [
              "<keras.callbacks.History at 0x7f8e80af7ed0>"
            ]
          },
          "metadata": {},
          "execution_count": 9
        }
      ]
    },
    {
      "cell_type": "markdown",
      "source": [
        "###Train dataset with Adam optimizer"
      ],
      "metadata": {
        "id": "y8s1eYTDufdj"
      }
    },
    {
      "cell_type": "code",
      "source": [
        "model.compile(optimizer = Adam(learning_rate=1e-3), loss = 'categorical_crossentropy', metrics = ['accuracy','Precision',f1_metric ])\n",
        "model.fit(trainX, trainY, epochs = 50, batch_size= 128)"
      ],
      "metadata": {
        "colab": {
          "base_uri": "https://localhost:8080/"
        },
        "id": "c8jx0GlpBipR",
        "outputId": "3a0927b7-5eca-40fe-c39a-c345bc5b5e7d"
      },
      "execution_count": 17,
      "outputs": [
        {
          "output_type": "stream",
          "name": "stdout",
          "text": [
            "Epoch 1/50\n",
            "438/438 [==============================] - 5s 9ms/step - loss: 0.2323 - accuracy: 0.9149 - precision: 0.9294 - f1_metric: 0.9154\n",
            "Epoch 2/50\n",
            "438/438 [==============================] - 4s 9ms/step - loss: 0.2287 - accuracy: 0.9163 - precision: 0.9302 - f1_metric: 0.9164\n",
            "Epoch 3/50\n",
            "438/438 [==============================] - 4s 9ms/step - loss: 0.2241 - accuracy: 0.9185 - precision: 0.9318 - f1_metric: 0.9183\n",
            "Epoch 4/50\n",
            "438/438 [==============================] - 4s 9ms/step - loss: 0.2235 - accuracy: 0.9167 - precision: 0.9308 - f1_metric: 0.9173\n",
            "Epoch 5/50\n",
            "438/438 [==============================] - 4s 9ms/step - loss: 0.2194 - accuracy: 0.9184 - precision: 0.9310 - f1_metric: 0.9185\n",
            "Epoch 6/50\n",
            "438/438 [==============================] - 4s 9ms/step - loss: 0.2162 - accuracy: 0.9203 - precision: 0.9328 - f1_metric: 0.9197\n",
            "Epoch 7/50\n",
            "438/438 [==============================] - 4s 9ms/step - loss: 0.2158 - accuracy: 0.9185 - precision: 0.9320 - f1_metric: 0.9189\n",
            "Epoch 8/50\n",
            "438/438 [==============================] - 4s 9ms/step - loss: 0.2160 - accuracy: 0.9183 - precision: 0.9317 - f1_metric: 0.9190\n",
            "Epoch 9/50\n",
            "438/438 [==============================] - 4s 9ms/step - loss: 0.2167 - accuracy: 0.9197 - precision: 0.9332 - f1_metric: 0.9204\n",
            "Epoch 10/50\n",
            "438/438 [==============================] - 4s 9ms/step - loss: 0.2113 - accuracy: 0.9203 - precision: 0.9331 - f1_metric: 0.9212\n",
            "Epoch 11/50\n",
            "438/438 [==============================] - 4s 9ms/step - loss: 0.2169 - accuracy: 0.9198 - precision: 0.9330 - f1_metric: 0.9198\n",
            "Epoch 12/50\n",
            "438/438 [==============================] - 4s 9ms/step - loss: 0.2135 - accuracy: 0.9204 - precision: 0.9335 - f1_metric: 0.9211\n",
            "Epoch 13/50\n",
            "438/438 [==============================] - 4s 9ms/step - loss: 0.2149 - accuracy: 0.9200 - precision: 0.9319 - f1_metric: 0.9199\n",
            "Epoch 14/50\n",
            "438/438 [==============================] - 4s 10ms/step - loss: 0.2111 - accuracy: 0.9212 - precision: 0.9338 - f1_metric: 0.9216\n",
            "Epoch 15/50\n",
            "438/438 [==============================] - 4s 9ms/step - loss: 0.2112 - accuracy: 0.9216 - precision: 0.9346 - f1_metric: 0.9222\n",
            "Epoch 16/50\n",
            "438/438 [==============================] - 4s 9ms/step - loss: 0.2086 - accuracy: 0.9233 - precision: 0.9347 - f1_metric: 0.9227\n",
            "Epoch 17/50\n",
            "438/438 [==============================] - 4s 9ms/step - loss: 0.2116 - accuracy: 0.9217 - precision: 0.9343 - f1_metric: 0.9216\n",
            "Epoch 18/50\n",
            "438/438 [==============================] - 4s 9ms/step - loss: 0.2108 - accuracy: 0.9210 - precision: 0.9330 - f1_metric: 0.9212\n",
            "Epoch 19/50\n",
            "438/438 [==============================] - 4s 9ms/step - loss: 0.2098 - accuracy: 0.9227 - precision: 0.9348 - f1_metric: 0.9225\n",
            "Epoch 20/50\n",
            "438/438 [==============================] - 4s 9ms/step - loss: 0.2126 - accuracy: 0.9214 - precision: 0.9339 - f1_metric: 0.9214\n",
            "Epoch 21/50\n",
            "438/438 [==============================] - 4s 9ms/step - loss: 0.2086 - accuracy: 0.9237 - precision: 0.9354 - f1_metric: 0.9231\n",
            "Epoch 22/50\n",
            "438/438 [==============================] - 4s 9ms/step - loss: 0.2130 - accuracy: 0.9201 - precision: 0.9330 - f1_metric: 0.9202\n",
            "Epoch 23/50\n",
            "438/438 [==============================] - 4s 9ms/step - loss: 0.2090 - accuracy: 0.9220 - precision: 0.9344 - f1_metric: 0.9227\n",
            "Epoch 24/50\n",
            "438/438 [==============================] - 4s 9ms/step - loss: 0.2073 - accuracy: 0.9225 - precision: 0.9343 - f1_metric: 0.9225\n",
            "Epoch 25/50\n",
            "438/438 [==============================] - 4s 9ms/step - loss: 0.2088 - accuracy: 0.9214 - precision: 0.9339 - f1_metric: 0.9222\n",
            "Epoch 26/50\n",
            "438/438 [==============================] - 4s 9ms/step - loss: 0.2075 - accuracy: 0.9218 - precision: 0.9340 - f1_metric: 0.9222\n",
            "Epoch 27/50\n",
            "438/438 [==============================] - 4s 9ms/step - loss: 0.2096 - accuracy: 0.9216 - precision: 0.9339 - f1_metric: 0.9219\n",
            "Epoch 28/50\n",
            "438/438 [==============================] - 4s 9ms/step - loss: 0.2093 - accuracy: 0.9215 - precision: 0.9337 - f1_metric: 0.9220\n",
            "Epoch 29/50\n",
            "438/438 [==============================] - 4s 9ms/step - loss: 0.2053 - accuracy: 0.9233 - precision: 0.9346 - f1_metric: 0.9234\n",
            "Epoch 30/50\n",
            "438/438 [==============================] - 4s 9ms/step - loss: 0.2076 - accuracy: 0.9228 - precision: 0.9347 - f1_metric: 0.9230\n",
            "Epoch 31/50\n",
            "438/438 [==============================] - 4s 9ms/step - loss: 0.2073 - accuracy: 0.9226 - precision: 0.9340 - f1_metric: 0.9222\n",
            "Epoch 32/50\n",
            "438/438 [==============================] - 4s 9ms/step - loss: 0.2063 - accuracy: 0.9228 - precision: 0.9350 - f1_metric: 0.9232\n",
            "Epoch 33/50\n",
            "438/438 [==============================] - 4s 10ms/step - loss: 0.2085 - accuracy: 0.9227 - precision: 0.9342 - f1_metric: 0.9230\n",
            "Epoch 34/50\n",
            "438/438 [==============================] - 4s 9ms/step - loss: 0.2071 - accuracy: 0.9225 - precision: 0.9344 - f1_metric: 0.9233\n",
            "Epoch 35/50\n",
            "438/438 [==============================] - 4s 9ms/step - loss: 0.2074 - accuracy: 0.9221 - precision: 0.9343 - f1_metric: 0.9225\n",
            "Epoch 36/50\n",
            "438/438 [==============================] - 4s 9ms/step - loss: 0.2063 - accuracy: 0.9233 - precision: 0.9347 - f1_metric: 0.9231\n",
            "Epoch 37/50\n",
            "438/438 [==============================] - 4s 9ms/step - loss: 0.2037 - accuracy: 0.9245 - precision: 0.9363 - f1_metric: 0.9244\n",
            "Epoch 38/50\n",
            "438/438 [==============================] - 4s 9ms/step - loss: 0.2043 - accuracy: 0.9238 - precision: 0.9351 - f1_metric: 0.9242\n",
            "Epoch 39/50\n",
            "438/438 [==============================] - 4s 9ms/step - loss: 0.2035 - accuracy: 0.9236 - precision: 0.9355 - f1_metric: 0.9239\n",
            "Epoch 40/50\n",
            "438/438 [==============================] - 4s 9ms/step - loss: 0.2044 - accuracy: 0.9227 - precision: 0.9351 - f1_metric: 0.9238\n",
            "Epoch 41/50\n",
            "438/438 [==============================] - 4s 9ms/step - loss: 0.2038 - accuracy: 0.9237 - precision: 0.9350 - f1_metric: 0.9239\n",
            "Epoch 42/50\n",
            "438/438 [==============================] - 4s 9ms/step - loss: 0.2057 - accuracy: 0.9225 - precision: 0.9345 - f1_metric: 0.9228\n",
            "Epoch 43/50\n",
            "438/438 [==============================] - 4s 9ms/step - loss: 0.2015 - accuracy: 0.9254 - precision: 0.9365 - f1_metric: 0.9255\n",
            "Epoch 44/50\n",
            "438/438 [==============================] - 4s 9ms/step - loss: 0.2040 - accuracy: 0.9239 - precision: 0.9359 - f1_metric: 0.9243\n",
            "Epoch 45/50\n",
            "438/438 [==============================] - 4s 9ms/step - loss: 0.2072 - accuracy: 0.9228 - precision: 0.9348 - f1_metric: 0.9228\n",
            "Epoch 46/50\n",
            "438/438 [==============================] - 4s 9ms/step - loss: 0.2027 - accuracy: 0.9246 - precision: 0.9368 - f1_metric: 0.9256\n",
            "Epoch 47/50\n",
            "438/438 [==============================] - 4s 9ms/step - loss: 0.2033 - accuracy: 0.9237 - precision: 0.9354 - f1_metric: 0.9239\n",
            "Epoch 48/50\n",
            "438/438 [==============================] - 4s 9ms/step - loss: 0.2040 - accuracy: 0.9239 - precision: 0.9358 - f1_metric: 0.9243\n",
            "Epoch 49/50\n",
            "438/438 [==============================] - 4s 9ms/step - loss: 0.2036 - accuracy: 0.9243 - precision: 0.9363 - f1_metric: 0.9248\n",
            "Epoch 50/50\n",
            "438/438 [==============================] - 4s 9ms/step - loss: 0.2097 - accuracy: 0.9215 - precision: 0.9343 - f1_metric: 0.9218\n"
          ]
        },
        {
          "output_type": "execute_result",
          "data": {
            "text/plain": [
              "<keras.callbacks.History at 0x7f5ed67b5f50>"
            ]
          },
          "metadata": {},
          "execution_count": 17
        }
      ]
    },
    {
      "cell_type": "markdown",
      "source": [
        "### Test dataset with Adam optimizer"
      ],
      "metadata": {
        "id": "QHPoX2cOv6m6"
      }
    },
    {
      "cell_type": "code",
      "source": [
        "model.compile(optimizer = Adam(learning_rate=1e-3), loss = 'categorical_crossentropy', metrics = ['accuracy','Precision',f1_metric ])\n",
        "model.fit(testX, testY, epochs = 50, batch_size= 128)"
      ],
      "metadata": {
        "colab": {
          "base_uri": "https://localhost:8080/"
        },
        "id": "ZbqWy5Rz1Lq1",
        "outputId": "59401ee6-61d3-46a1-dfeb-a59751a65b48"
      },
      "execution_count": 18,
      "outputs": [
        {
          "output_type": "stream",
          "name": "stdout",
          "text": [
            "Epoch 1/50\n",
            "110/110 [==============================] - 2s 10ms/step - loss: 0.2570 - accuracy: 0.9080 - precision: 0.9240 - f1_metric: 0.9089\n",
            "Epoch 2/50\n",
            "110/110 [==============================] - 1s 9ms/step - loss: 0.2343 - accuracy: 0.9143 - precision: 0.9309 - f1_metric: 0.9158\n",
            "Epoch 3/50\n",
            "110/110 [==============================] - 1s 9ms/step - loss: 0.2391 - accuracy: 0.9133 - precision: 0.9284 - f1_metric: 0.9137\n",
            "Epoch 4/50\n",
            "110/110 [==============================] - 1s 9ms/step - loss: 0.2353 - accuracy: 0.9154 - precision: 0.9310 - f1_metric: 0.9152\n",
            "Epoch 5/50\n",
            "110/110 [==============================] - 1s 9ms/step - loss: 0.2326 - accuracy: 0.9175 - precision: 0.9332 - f1_metric: 0.9182\n",
            "Epoch 6/50\n",
            "110/110 [==============================] - 1s 9ms/step - loss: 0.2166 - accuracy: 0.9210 - precision: 0.9355 - f1_metric: 0.9210\n",
            "Epoch 7/50\n",
            "110/110 [==============================] - 1s 9ms/step - loss: 0.2210 - accuracy: 0.9200 - precision: 0.9334 - f1_metric: 0.9198\n",
            "Epoch 8/50\n",
            "110/110 [==============================] - 1s 9ms/step - loss: 0.2242 - accuracy: 0.9194 - precision: 0.9335 - f1_metric: 0.9200\n",
            "Epoch 9/50\n",
            "110/110 [==============================] - 1s 9ms/step - loss: 0.2145 - accuracy: 0.9231 - precision: 0.9370 - f1_metric: 0.9234\n",
            "Epoch 10/50\n",
            "110/110 [==============================] - 1s 9ms/step - loss: 0.2131 - accuracy: 0.9213 - precision: 0.9315 - f1_metric: 0.9199\n",
            "Epoch 11/50\n",
            "110/110 [==============================] - 1s 9ms/step - loss: 0.2150 - accuracy: 0.9205 - precision: 0.9342 - f1_metric: 0.9219\n",
            "Epoch 12/50\n",
            "110/110 [==============================] - 1s 9ms/step - loss: 0.2116 - accuracy: 0.9216 - precision: 0.9349 - f1_metric: 0.9214\n",
            "Epoch 13/50\n",
            "110/110 [==============================] - 1s 9ms/step - loss: 0.2100 - accuracy: 0.9212 - precision: 0.9354 - f1_metric: 0.9217\n",
            "Epoch 14/50\n",
            "110/110 [==============================] - 1s 9ms/step - loss: 0.2079 - accuracy: 0.9225 - precision: 0.9357 - f1_metric: 0.9235\n",
            "Epoch 15/50\n",
            "110/110 [==============================] - 1s 9ms/step - loss: 0.2100 - accuracy: 0.9236 - precision: 0.9356 - f1_metric: 0.9233\n",
            "Epoch 16/50\n",
            "110/110 [==============================] - 1s 9ms/step - loss: 0.2033 - accuracy: 0.9238 - precision: 0.9354 - f1_metric: 0.9245\n",
            "Epoch 17/50\n",
            "110/110 [==============================] - 1s 9ms/step - loss: 0.2070 - accuracy: 0.9217 - precision: 0.9352 - f1_metric: 0.9226\n",
            "Epoch 18/50\n",
            "110/110 [==============================] - 1s 9ms/step - loss: 0.2036 - accuracy: 0.9257 - precision: 0.9387 - f1_metric: 0.9256\n",
            "Epoch 19/50\n",
            "110/110 [==============================] - 1s 9ms/step - loss: 0.1987 - accuracy: 0.9279 - precision: 0.9405 - f1_metric: 0.9292\n",
            "Epoch 20/50\n",
            "110/110 [==============================] - 1s 9ms/step - loss: 0.2004 - accuracy: 0.9260 - precision: 0.9386 - f1_metric: 0.9266\n",
            "Epoch 21/50\n",
            "110/110 [==============================] - 1s 9ms/step - loss: 0.1960 - accuracy: 0.9255 - precision: 0.9383 - f1_metric: 0.9263\n",
            "Epoch 22/50\n",
            "110/110 [==============================] - 1s 9ms/step - loss: 0.1989 - accuracy: 0.9246 - precision: 0.9369 - f1_metric: 0.9251\n",
            "Epoch 23/50\n",
            "110/110 [==============================] - 1s 9ms/step - loss: 0.1945 - accuracy: 0.9279 - precision: 0.9374 - f1_metric: 0.9275\n",
            "Epoch 24/50\n",
            "110/110 [==============================] - 1s 9ms/step - loss: 0.1889 - accuracy: 0.9292 - precision: 0.9400 - f1_metric: 0.9297\n",
            "Epoch 25/50\n",
            "110/110 [==============================] - 1s 9ms/step - loss: 0.1973 - accuracy: 0.9257 - precision: 0.9388 - f1_metric: 0.9272\n",
            "Epoch 26/50\n",
            "110/110 [==============================] - 1s 9ms/step - loss: 0.1937 - accuracy: 0.9278 - precision: 0.9390 - f1_metric: 0.9279\n",
            "Epoch 27/50\n",
            "110/110 [==============================] - 1s 9ms/step - loss: 0.1889 - accuracy: 0.9294 - precision: 0.9410 - f1_metric: 0.9300\n",
            "Epoch 28/50\n",
            "110/110 [==============================] - 1s 9ms/step - loss: 0.1980 - accuracy: 0.9246 - precision: 0.9369 - f1_metric: 0.9257\n",
            "Epoch 29/50\n",
            "110/110 [==============================] - 1s 9ms/step - loss: 0.1833 - accuracy: 0.9310 - precision: 0.9411 - f1_metric: 0.9319\n",
            "Epoch 30/50\n",
            "110/110 [==============================] - 1s 9ms/step - loss: 0.1823 - accuracy: 0.9312 - precision: 0.9417 - f1_metric: 0.9320\n",
            "Epoch 31/50\n",
            "110/110 [==============================] - 1s 9ms/step - loss: 0.1870 - accuracy: 0.9303 - precision: 0.9404 - f1_metric: 0.9303\n",
            "Epoch 32/50\n",
            "110/110 [==============================] - 1s 9ms/step - loss: 0.1821 - accuracy: 0.9327 - precision: 0.9424 - f1_metric: 0.9333\n",
            "Epoch 33/50\n",
            "110/110 [==============================] - 1s 9ms/step - loss: 0.1814 - accuracy: 0.9305 - precision: 0.9406 - f1_metric: 0.9306\n",
            "Epoch 34/50\n",
            "110/110 [==============================] - 1s 9ms/step - loss: 0.1805 - accuracy: 0.9326 - precision: 0.9426 - f1_metric: 0.9329\n",
            "Epoch 35/50\n",
            "110/110 [==============================] - 1s 9ms/step - loss: 0.1833 - accuracy: 0.9311 - precision: 0.9414 - f1_metric: 0.9318\n",
            "Epoch 36/50\n",
            "110/110 [==============================] - 1s 9ms/step - loss: 0.1837 - accuracy: 0.9302 - precision: 0.9408 - f1_metric: 0.9298\n",
            "Epoch 37/50\n",
            "110/110 [==============================] - 1s 9ms/step - loss: 0.1809 - accuracy: 0.9312 - precision: 0.9396 - f1_metric: 0.9310\n",
            "Epoch 38/50\n",
            "110/110 [==============================] - 1s 9ms/step - loss: 0.1851 - accuracy: 0.9284 - precision: 0.9387 - f1_metric: 0.9289\n",
            "Epoch 39/50\n",
            "110/110 [==============================] - 1s 9ms/step - loss: 0.1814 - accuracy: 0.9299 - precision: 0.9405 - f1_metric: 0.9301\n",
            "Epoch 40/50\n",
            "110/110 [==============================] - 1s 9ms/step - loss: 0.1763 - accuracy: 0.9350 - precision: 0.9446 - f1_metric: 0.9352\n",
            "Epoch 41/50\n",
            "110/110 [==============================] - 1s 9ms/step - loss: 0.1760 - accuracy: 0.9339 - precision: 0.9441 - f1_metric: 0.9346\n",
            "Epoch 42/50\n",
            "110/110 [==============================] - 1s 9ms/step - loss: 0.1756 - accuracy: 0.9366 - precision: 0.9445 - f1_metric: 0.9358\n",
            "Epoch 43/50\n",
            "110/110 [==============================] - 1s 9ms/step - loss: 0.1732 - accuracy: 0.9357 - precision: 0.9451 - f1_metric: 0.9361\n",
            "Epoch 44/50\n",
            "110/110 [==============================] - 1s 9ms/step - loss: 0.1807 - accuracy: 0.9344 - precision: 0.9430 - f1_metric: 0.9339\n",
            "Epoch 45/50\n",
            "110/110 [==============================] - 1s 9ms/step - loss: 0.1789 - accuracy: 0.9311 - precision: 0.9409 - f1_metric: 0.9313\n",
            "Epoch 46/50\n",
            "110/110 [==============================] - 1s 9ms/step - loss: 0.1769 - accuracy: 0.9316 - precision: 0.9397 - f1_metric: 0.9314\n",
            "Epoch 47/50\n",
            "110/110 [==============================] - 1s 9ms/step - loss: 0.1775 - accuracy: 0.9339 - precision: 0.9437 - f1_metric: 0.9345\n",
            "Epoch 48/50\n",
            "110/110 [==============================] - 1s 9ms/step - loss: 0.1751 - accuracy: 0.9346 - precision: 0.9439 - f1_metric: 0.9344\n",
            "Epoch 49/50\n",
            "110/110 [==============================] - 1s 9ms/step - loss: 0.1721 - accuracy: 0.9354 - precision: 0.9439 - f1_metric: 0.9351\n",
            "Epoch 50/50\n",
            "110/110 [==============================] - 1s 9ms/step - loss: 0.1724 - accuracy: 0.9359 - precision: 0.9444 - f1_metric: 0.9352\n"
          ]
        },
        {
          "output_type": "execute_result",
          "data": {
            "text/plain": [
              "<keras.callbacks.History at 0x7f5ed6a077d0>"
            ]
          },
          "metadata": {},
          "execution_count": 18
        }
      ]
    },
    {
      "cell_type": "markdown",
      "source": [
        "## CREATE THE MODEL FOR THE THIRD ARCITECTURE\n"
      ],
      "metadata": {
        "id": "kBEW3a3Mo5NC"
      }
    },
    {
      "cell_type": "code",
      "source": [
        "def model_3th_arch(input_shape = (28,28,1), classes = 10):\n",
        "\n",
        "  X_input = Input(input_shape)\n",
        "  X = Conv2D(64, (2,2) , padding=\"same\", activation = 'relu')(X_input)\n",
        "  X = MaxPooling2D(pool_size=(2, 2))(X)\n",
        "  X = Dropout(0.25)(X)\n",
        "\n",
        "  X = Conv2D(64, (2,2),  padding=\"same\", activation = 'relu')(X)\n",
        "  X = MaxPooling2D(pool_size=(2, 2))(X)\n",
        "  X = Dropout(0.25)(X)\n",
        "\n",
        "  X = Conv2D(64, (2,2),  padding=\"same\", activation = 'relu')(X)\n",
        "  X = Dropout(0.25)(X)\n",
        "  X = Flatten()(X)\n",
        "  X = Dense(64 , activation=\"softmax\")(X)\n",
        "  X = Dropout(0.25)(X)\n",
        "  X = Dense(10 , activation = 'softmax')(X)\n",
        "\n",
        "##\n",
        "  model = models.Model(inputs = X_input, outputs = X)\n",
        "  return model"
      ],
      "metadata": {
        "id": "HdHmb7D_o3zo"
      },
      "execution_count": 12,
      "outputs": []
    },
    {
      "cell_type": "code",
      "source": [
        "model2 = model_3th_arch()\n",
        "print(model2.summary())\n"
      ],
      "metadata": {
        "colab": {
          "base_uri": "https://localhost:8080/"
        },
        "id": "a8TRShcHURQa",
        "outputId": "bbaf27f5-701f-4a8d-9c0b-0e6c716458f0"
      },
      "execution_count": 13,
      "outputs": [
        {
          "output_type": "stream",
          "name": "stdout",
          "text": [
            "Model: \"model_1\"\n",
            "_________________________________________________________________\n",
            " Layer (type)                Output Shape              Param #   \n",
            "=================================================================\n",
            " input_2 (InputLayer)        [(None, 28, 28, 1)]       0         \n",
            "                                                                 \n",
            " conv2d_4 (Conv2D)           (None, 28, 28, 64)        320       \n",
            "                                                                 \n",
            " max_pooling2d_3 (MaxPooling  (None, 14, 14, 64)       0         \n",
            " 2D)                                                             \n",
            "                                                                 \n",
            " dropout_5 (Dropout)         (None, 14, 14, 64)        0         \n",
            "                                                                 \n",
            " conv2d_5 (Conv2D)           (None, 14, 14, 64)        16448     \n",
            "                                                                 \n",
            " max_pooling2d_4 (MaxPooling  (None, 7, 7, 64)         0         \n",
            " 2D)                                                             \n",
            "                                                                 \n",
            " dropout_6 (Dropout)         (None, 7, 7, 64)          0         \n",
            "                                                                 \n",
            " conv2d_6 (Conv2D)           (None, 7, 7, 64)          16448     \n",
            "                                                                 \n",
            " dropout_7 (Dropout)         (None, 7, 7, 64)          0         \n",
            "                                                                 \n",
            " flatten_1 (Flatten)         (None, 3136)              0         \n",
            "                                                                 \n",
            " dense_2 (Dense)             (None, 64)                200768    \n",
            "                                                                 \n",
            " dropout_8 (Dropout)         (None, 64)                0         \n",
            "                                                                 \n",
            " dense_3 (Dense)             (None, 10)                650       \n",
            "                                                                 \n",
            "=================================================================\n",
            "Total params: 234,634\n",
            "Trainable params: 234,634\n",
            "Non-trainable params: 0\n",
            "_________________________________________________________________\n",
            "None\n"
          ]
        }
      ]
    },
    {
      "cell_type": "markdown",
      "source": [
        "###Train dataset with SGD optimizer"
      ],
      "metadata": {
        "id": "30WRFFVuup-E"
      }
    },
    {
      "cell_type": "code",
      "source": [
        "model2.compile(optimizer = SGD(learning_rate=1e-3), loss = 'categorical_crossentropy', metrics = ['accuracy'])\n",
        "model2.fit(trainX, trainY, epochs = 50, batch_size= 128)"
      ],
      "metadata": {
        "colab": {
          "base_uri": "https://localhost:8080/"
        },
        "id": "ZYTN4nd7Q79x",
        "outputId": "df529bc7-4824-4b6f-c5c9-d0ed558cfbbc"
      },
      "execution_count": null,
      "outputs": [
        {
          "output_type": "stream",
          "name": "stdout",
          "text": [
            "Epoch 1/50\n",
            "469/469 [==============================] - 4s 8ms/step - loss: 2.3027 - accuracy: 0.0987\n",
            "Epoch 2/50\n",
            "469/469 [==============================] - 4s 8ms/step - loss: 2.3027 - accuracy: 0.0998\n",
            "Epoch 3/50\n",
            "469/469 [==============================] - 4s 8ms/step - loss: 2.3026 - accuracy: 0.1006\n",
            "Epoch 4/50\n",
            "469/469 [==============================] - 4s 8ms/step - loss: 2.3025 - accuracy: 0.1012\n",
            "Epoch 5/50\n",
            "469/469 [==============================] - 4s 8ms/step - loss: 2.3026 - accuracy: 0.0995\n",
            "Epoch 6/50\n",
            "469/469 [==============================] - 4s 8ms/step - loss: 2.3024 - accuracy: 0.1011\n",
            "Epoch 7/50\n",
            "469/469 [==============================] - 4s 8ms/step - loss: 2.3024 - accuracy: 0.1016\n",
            "Epoch 8/50\n",
            "469/469 [==============================] - 4s 8ms/step - loss: 2.3023 - accuracy: 0.1020\n",
            "Epoch 9/50\n",
            "469/469 [==============================] - 4s 8ms/step - loss: 2.3022 - accuracy: 0.1046\n",
            "Epoch 10/50\n",
            "469/469 [==============================] - 4s 8ms/step - loss: 2.3022 - accuracy: 0.1052\n",
            "Epoch 11/50\n",
            "469/469 [==============================] - 4s 8ms/step - loss: 2.3023 - accuracy: 0.1048\n",
            "Epoch 12/50\n",
            "469/469 [==============================] - 4s 8ms/step - loss: 2.3021 - accuracy: 0.1048\n",
            "Epoch 13/50\n",
            "469/469 [==============================] - 4s 8ms/step - loss: 2.3020 - accuracy: 0.1068\n",
            "Epoch 14/50\n",
            "469/469 [==============================] - 4s 8ms/step - loss: 2.3020 - accuracy: 0.1057\n",
            "Epoch 15/50\n",
            "469/469 [==============================] - 4s 8ms/step - loss: 2.3020 - accuracy: 0.1080\n",
            "Epoch 16/50\n",
            "469/469 [==============================] - 4s 8ms/step - loss: 2.3020 - accuracy: 0.1083\n",
            "Epoch 17/50\n",
            "469/469 [==============================] - 4s 8ms/step - loss: 2.3019 - accuracy: 0.1062\n",
            "Epoch 18/50\n",
            "469/469 [==============================] - 4s 8ms/step - loss: 2.3019 - accuracy: 0.1069\n",
            "Epoch 19/50\n",
            "469/469 [==============================] - 4s 8ms/step - loss: 2.3018 - accuracy: 0.1093\n",
            "Epoch 20/50\n",
            "469/469 [==============================] - 4s 8ms/step - loss: 2.3017 - accuracy: 0.1135\n",
            "Epoch 21/50\n",
            "469/469 [==============================] - 4s 8ms/step - loss: 2.3017 - accuracy: 0.1145\n",
            "Epoch 22/50\n",
            "469/469 [==============================] - 4s 8ms/step - loss: 2.3016 - accuracy: 0.1127\n",
            "Epoch 23/50\n",
            "469/469 [==============================] - 4s 8ms/step - loss: 2.3016 - accuracy: 0.1120\n",
            "Epoch 24/50\n",
            "469/469 [==============================] - 4s 8ms/step - loss: 2.3016 - accuracy: 0.1141\n",
            "Epoch 25/50\n",
            "469/469 [==============================] - 4s 8ms/step - loss: 2.3015 - accuracy: 0.1156\n",
            "Epoch 26/50\n",
            "469/469 [==============================] - 4s 8ms/step - loss: 2.3015 - accuracy: 0.1170\n",
            "Epoch 27/50\n",
            "469/469 [==============================] - 4s 8ms/step - loss: 2.3014 - accuracy: 0.1174\n",
            "Epoch 28/50\n",
            "469/469 [==============================] - 4s 9ms/step - loss: 2.3014 - accuracy: 0.1166\n",
            "Epoch 29/50\n",
            "469/469 [==============================] - 4s 8ms/step - loss: 2.3014 - accuracy: 0.1180\n",
            "Epoch 30/50\n",
            "469/469 [==============================] - 4s 8ms/step - loss: 2.3013 - accuracy: 0.1186\n",
            "Epoch 31/50\n",
            "469/469 [==============================] - 4s 8ms/step - loss: 2.3012 - accuracy: 0.1198\n",
            "Epoch 32/50\n",
            "469/469 [==============================] - 4s 8ms/step - loss: 2.3012 - accuracy: 0.1207\n",
            "Epoch 33/50\n",
            "469/469 [==============================] - 4s 8ms/step - loss: 2.3011 - accuracy: 0.1210\n",
            "Epoch 34/50\n",
            "469/469 [==============================] - 4s 8ms/step - loss: 2.3010 - accuracy: 0.1240\n",
            "Epoch 35/50\n",
            "469/469 [==============================] - 4s 8ms/step - loss: 2.3009 - accuracy: 0.1273\n",
            "Epoch 36/50\n",
            "469/469 [==============================] - 4s 8ms/step - loss: 2.3008 - accuracy: 0.1263\n",
            "Epoch 37/50\n",
            "469/469 [==============================] - 4s 8ms/step - loss: 2.3009 - accuracy: 0.1250\n",
            "Epoch 38/50\n",
            "469/469 [==============================] - 4s 8ms/step - loss: 2.3008 - accuracy: 0.1279\n",
            "Epoch 39/50\n",
            "469/469 [==============================] - 4s 8ms/step - loss: 2.3006 - accuracy: 0.1286\n",
            "Epoch 40/50\n",
            "469/469 [==============================] - 4s 8ms/step - loss: 2.3007 - accuracy: 0.1297\n",
            "Epoch 41/50\n",
            "469/469 [==============================] - 4s 8ms/step - loss: 2.3005 - accuracy: 0.1306\n",
            "Epoch 42/50\n",
            "469/469 [==============================] - 4s 8ms/step - loss: 2.3004 - accuracy: 0.1340\n",
            "Epoch 43/50\n",
            "469/469 [==============================] - 4s 8ms/step - loss: 2.3004 - accuracy: 0.1309\n",
            "Epoch 44/50\n",
            "469/469 [==============================] - 4s 9ms/step - loss: 2.3003 - accuracy: 0.1346\n",
            "Epoch 45/50\n",
            "469/469 [==============================] - 4s 8ms/step - loss: 2.3002 - accuracy: 0.1372\n",
            "Epoch 46/50\n",
            "469/469 [==============================] - 4s 8ms/step - loss: 2.3002 - accuracy: 0.1379\n",
            "Epoch 47/50\n",
            "469/469 [==============================] - 4s 8ms/step - loss: 2.3001 - accuracy: 0.1383\n",
            "Epoch 48/50\n",
            "469/469 [==============================] - 4s 8ms/step - loss: 2.2999 - accuracy: 0.1409\n",
            "Epoch 49/50\n",
            "469/469 [==============================] - 4s 8ms/step - loss: 2.2999 - accuracy: 0.1421\n",
            "Epoch 50/50\n",
            "469/469 [==============================] - 4s 8ms/step - loss: 2.2997 - accuracy: 0.1446\n"
          ]
        },
        {
          "output_type": "execute_result",
          "data": {
            "text/plain": [
              "<keras.callbacks.History at 0x7f8e26655a50>"
            ]
          },
          "metadata": {},
          "execution_count": 12
        }
      ]
    },
    {
      "cell_type": "markdown",
      "source": [
        "###Train dataset with Adam optimizer"
      ],
      "metadata": {
        "id": "661kaItFusyO"
      }
    },
    {
      "cell_type": "code",
      "source": [
        "model2.compile(optimizer = Adam(learning_rate=1e-3), loss = 'categorical_crossentropy', metrics = ['accuracy','Precision',f1_metric ])\n",
        "model2.fit(trainX, trainY, epochs = 50, batch_size= 128)"
      ],
      "metadata": {
        "colab": {
          "base_uri": "https://localhost:8080/"
        },
        "id": "quqxUxWyx8fN",
        "outputId": "0dfe9314-f179-4ff7-cd72-ec5c7de84e4b"
      },
      "execution_count": 19,
      "outputs": [
        {
          "output_type": "stream",
          "name": "stdout",
          "text": [
            "Epoch 1/50\n",
            "438/438 [==============================] - 5s 9ms/step - loss: 0.4544 - accuracy: 0.8391 - precision: 0.9157 - f1_metric: 0.8406\n",
            "Epoch 2/50\n",
            "438/438 [==============================] - 4s 9ms/step - loss: 0.4505 - accuracy: 0.8395 - precision: 0.9160 - f1_metric: 0.8411\n",
            "Epoch 3/50\n",
            "438/438 [==============================] - 4s 9ms/step - loss: 0.4412 - accuracy: 0.8451 - precision: 0.9169 - f1_metric: 0.8457\n",
            "Epoch 4/50\n",
            "438/438 [==============================] - 4s 9ms/step - loss: 0.4428 - accuracy: 0.8448 - precision: 0.9171 - f1_metric: 0.8442\n",
            "Epoch 5/50\n",
            "438/438 [==============================] - 4s 9ms/step - loss: 0.4319 - accuracy: 0.8540 - precision: 0.9207 - f1_metric: 0.8488\n",
            "Epoch 6/50\n",
            "438/438 [==============================] - 4s 9ms/step - loss: 0.4237 - accuracy: 0.8553 - precision: 0.9186 - f1_metric: 0.8514\n",
            "Epoch 7/50\n",
            "438/438 [==============================] - 4s 9ms/step - loss: 0.4167 - accuracy: 0.8580 - precision: 0.9198 - f1_metric: 0.8557\n",
            "Epoch 8/50\n",
            "438/438 [==============================] - 4s 9ms/step - loss: 0.4124 - accuracy: 0.8581 - precision: 0.9188 - f1_metric: 0.8576\n",
            "Epoch 9/50\n",
            "438/438 [==============================] - 4s 9ms/step - loss: 0.4031 - accuracy: 0.8631 - precision: 0.9233 - f1_metric: 0.8620\n",
            "Epoch 10/50\n",
            "438/438 [==============================] - 4s 9ms/step - loss: 0.4044 - accuracy: 0.8628 - precision: 0.9235 - f1_metric: 0.8650\n",
            "Epoch 11/50\n",
            "438/438 [==============================] - 4s 9ms/step - loss: 0.3857 - accuracy: 0.8676 - precision: 0.9244 - f1_metric: 0.8744\n",
            "Epoch 12/50\n",
            "438/438 [==============================] - 4s 9ms/step - loss: 0.3775 - accuracy: 0.8691 - precision: 0.9263 - f1_metric: 0.8765\n",
            "Epoch 13/50\n",
            "438/438 [==============================] - 4s 9ms/step - loss: 0.3778 - accuracy: 0.8688 - precision: 0.9257 - f1_metric: 0.8770\n",
            "Epoch 14/50\n",
            "438/438 [==============================] - 4s 9ms/step - loss: 0.3657 - accuracy: 0.8733 - precision: 0.9269 - f1_metric: 0.8798\n",
            "Epoch 15/50\n",
            "438/438 [==============================] - 4s 9ms/step - loss: 0.3637 - accuracy: 0.8744 - precision: 0.9268 - f1_metric: 0.8800\n",
            "Epoch 16/50\n",
            "438/438 [==============================] - 4s 9ms/step - loss: 0.3637 - accuracy: 0.8742 - precision: 0.9255 - f1_metric: 0.8795\n",
            "Epoch 17/50\n",
            "438/438 [==============================] - 4s 9ms/step - loss: 0.3623 - accuracy: 0.8761 - precision: 0.9266 - f1_metric: 0.8798\n",
            "Epoch 18/50\n",
            "438/438 [==============================] - 4s 9ms/step - loss: 0.3622 - accuracy: 0.8769 - precision: 0.9264 - f1_metric: 0.8798\n",
            "Epoch 19/50\n",
            "438/438 [==============================] - 4s 9ms/step - loss: 0.3558 - accuracy: 0.8777 - precision: 0.9273 - f1_metric: 0.8824\n",
            "Epoch 20/50\n",
            "438/438 [==============================] - 4s 9ms/step - loss: 0.3546 - accuracy: 0.8790 - precision: 0.9265 - f1_metric: 0.8817\n",
            "Epoch 21/50\n",
            "438/438 [==============================] - 4s 9ms/step - loss: 0.3499 - accuracy: 0.8807 - precision: 0.9292 - f1_metric: 0.8849\n",
            "Epoch 22/50\n",
            "438/438 [==============================] - 4s 9ms/step - loss: 0.3460 - accuracy: 0.8833 - precision: 0.9304 - f1_metric: 0.8856\n",
            "Epoch 23/50\n",
            "438/438 [==============================] - 4s 9ms/step - loss: 0.3426 - accuracy: 0.8843 - precision: 0.9301 - f1_metric: 0.8853\n",
            "Epoch 24/50\n",
            "438/438 [==============================] - 4s 9ms/step - loss: 0.3419 - accuracy: 0.8855 - precision: 0.9311 - f1_metric: 0.8868\n",
            "Epoch 25/50\n",
            "438/438 [==============================] - 4s 9ms/step - loss: 0.3377 - accuracy: 0.8860 - precision: 0.9302 - f1_metric: 0.8874\n",
            "Epoch 26/50\n",
            "438/438 [==============================] - 4s 9ms/step - loss: 0.3313 - accuracy: 0.8884 - precision: 0.9319 - f1_metric: 0.8908\n",
            "Epoch 27/50\n",
            "438/438 [==============================] - 4s 9ms/step - loss: 0.3297 - accuracy: 0.8887 - precision: 0.9331 - f1_metric: 0.8915\n",
            "Epoch 28/50\n",
            "438/438 [==============================] - 4s 9ms/step - loss: 0.3257 - accuracy: 0.8910 - precision: 0.9331 - f1_metric: 0.8932\n",
            "Epoch 29/50\n",
            "438/438 [==============================] - 4s 9ms/step - loss: 0.3264 - accuracy: 0.8915 - precision: 0.9332 - f1_metric: 0.8930\n",
            "Epoch 30/50\n",
            "438/438 [==============================] - 4s 9ms/step - loss: 0.3203 - accuracy: 0.8911 - precision: 0.9323 - f1_metric: 0.8941\n",
            "Epoch 31/50\n",
            "438/438 [==============================] - 4s 9ms/step - loss: 0.3214 - accuracy: 0.8898 - precision: 0.9329 - f1_metric: 0.8936\n",
            "Epoch 32/50\n",
            "438/438 [==============================] - 4s 9ms/step - loss: 0.3202 - accuracy: 0.8904 - precision: 0.9334 - f1_metric: 0.8939\n",
            "Epoch 33/50\n",
            "438/438 [==============================] - 4s 9ms/step - loss: 0.3232 - accuracy: 0.8884 - precision: 0.9322 - f1_metric: 0.8926\n",
            "Epoch 34/50\n",
            "438/438 [==============================] - 4s 9ms/step - loss: 0.3118 - accuracy: 0.8931 - precision: 0.9341 - f1_metric: 0.8967\n",
            "Epoch 35/50\n",
            "438/438 [==============================] - 4s 10ms/step - loss: 0.3099 - accuracy: 0.8931 - precision: 0.9335 - f1_metric: 0.8964\n",
            "Epoch 36/50\n",
            "438/438 [==============================] - 4s 9ms/step - loss: 0.3089 - accuracy: 0.8936 - precision: 0.9342 - f1_metric: 0.8969\n",
            "Epoch 37/50\n",
            "438/438 [==============================] - 4s 9ms/step - loss: 0.3118 - accuracy: 0.8951 - precision: 0.9345 - f1_metric: 0.8973\n",
            "Epoch 38/50\n",
            "438/438 [==============================] - 4s 9ms/step - loss: 0.3091 - accuracy: 0.8949 - precision: 0.9345 - f1_metric: 0.8971\n",
            "Epoch 39/50\n",
            "438/438 [==============================] - 4s 9ms/step - loss: 0.3039 - accuracy: 0.8964 - precision: 0.9336 - f1_metric: 0.8980\n",
            "Epoch 40/50\n",
            "438/438 [==============================] - 4s 9ms/step - loss: 0.2999 - accuracy: 0.8973 - precision: 0.9358 - f1_metric: 0.9000\n",
            "Epoch 41/50\n",
            "438/438 [==============================] - 4s 9ms/step - loss: 0.3034 - accuracy: 0.8948 - precision: 0.9328 - f1_metric: 0.8973\n",
            "Epoch 42/50\n",
            "438/438 [==============================] - 4s 9ms/step - loss: 0.2968 - accuracy: 0.8987 - precision: 0.9369 - f1_metric: 0.9005\n",
            "Epoch 43/50\n",
            "438/438 [==============================] - 4s 9ms/step - loss: 0.2992 - accuracy: 0.8983 - precision: 0.9345 - f1_metric: 0.8995\n",
            "Epoch 44/50\n",
            "438/438 [==============================] - 4s 9ms/step - loss: 0.2919 - accuracy: 0.9003 - precision: 0.9364 - f1_metric: 0.9014\n",
            "Epoch 45/50\n",
            "438/438 [==============================] - 4s 9ms/step - loss: 0.2970 - accuracy: 0.8975 - precision: 0.9353 - f1_metric: 0.8996\n",
            "Epoch 46/50\n",
            "438/438 [==============================] - 4s 9ms/step - loss: 0.2920 - accuracy: 0.8997 - precision: 0.9352 - f1_metric: 0.9010\n",
            "Epoch 47/50\n",
            "438/438 [==============================] - 4s 9ms/step - loss: 0.2908 - accuracy: 0.8993 - precision: 0.9373 - f1_metric: 0.9026\n",
            "Epoch 48/50\n",
            "438/438 [==============================] - 4s 9ms/step - loss: 0.2906 - accuracy: 0.8989 - precision: 0.9350 - f1_metric: 0.9009\n",
            "Epoch 49/50\n",
            "438/438 [==============================] - 4s 9ms/step - loss: 0.2896 - accuracy: 0.9001 - precision: 0.9355 - f1_metric: 0.9015\n",
            "Epoch 50/50\n",
            "438/438 [==============================] - 4s 9ms/step - loss: 0.2859 - accuracy: 0.9013 - precision: 0.9361 - f1_metric: 0.9022\n"
          ]
        },
        {
          "output_type": "execute_result",
          "data": {
            "text/plain": [
              "<keras.callbacks.History at 0x7f5ed63ef890>"
            ]
          },
          "metadata": {},
          "execution_count": 19
        }
      ]
    },
    {
      "cell_type": "markdown",
      "source": [
        "##Test Dataset with Adam optimizer"
      ],
      "metadata": {
        "id": "swYKHci_Ie-1"
      }
    },
    {
      "cell_type": "code",
      "source": [
        "model2.compile(optimizer = Adam(learning_rate=1e-3), loss = 'categorical_crossentropy', metrics = ['accuracy','Precision',f1_metric ])\n",
        "model2.fit(testX, testY, epochs = 50, batch_size= 128)"
      ],
      "metadata": {
        "colab": {
          "base_uri": "https://localhost:8080/"
        },
        "id": "w51L_Tq1IeB6",
        "outputId": "48945a92-cf0c-419d-ba1c-76e12c7aae3e"
      },
      "execution_count": 24,
      "outputs": [
        {
          "output_type": "stream",
          "name": "stdout",
          "text": [
            "Epoch 1/50\n",
            "110/110 [==============================] - 2s 9ms/step - loss: 0.3704 - accuracy: 0.8765 - precision: 0.9139 - f1_metric: 0.8773\n",
            "Epoch 2/50\n",
            "110/110 [==============================] - 1s 9ms/step - loss: 0.3523 - accuracy: 0.8790 - precision: 0.9177 - f1_metric: 0.8795\n",
            "Epoch 3/50\n",
            "110/110 [==============================] - 1s 8ms/step - loss: 0.3481 - accuracy: 0.8854 - precision: 0.9199 - f1_metric: 0.8819\n",
            "Epoch 4/50\n",
            "110/110 [==============================] - 1s 8ms/step - loss: 0.3330 - accuracy: 0.8856 - precision: 0.9253 - f1_metric: 0.8872\n",
            "Epoch 5/50\n",
            "110/110 [==============================] - 1s 9ms/step - loss: 0.3255 - accuracy: 0.8891 - precision: 0.9249 - f1_metric: 0.8880\n",
            "Epoch 6/50\n",
            "110/110 [==============================] - 1s 9ms/step - loss: 0.3238 - accuracy: 0.8884 - precision: 0.9248 - f1_metric: 0.8883\n",
            "Epoch 7/50\n",
            "110/110 [==============================] - 1s 8ms/step - loss: 0.3143 - accuracy: 0.8928 - precision: 0.9305 - f1_metric: 0.8930\n",
            "Epoch 8/50\n",
            "110/110 [==============================] - 1s 9ms/step - loss: 0.3072 - accuracy: 0.8926 - precision: 0.9288 - f1_metric: 0.8914\n",
            "Epoch 9/50\n",
            "110/110 [==============================] - 1s 9ms/step - loss: 0.3045 - accuracy: 0.8962 - precision: 0.9298 - f1_metric: 0.8949\n",
            "Epoch 10/50\n",
            "110/110 [==============================] - 1s 9ms/step - loss: 0.3004 - accuracy: 0.8989 - precision: 0.9333 - f1_metric: 0.8978\n",
            "Epoch 11/50\n",
            "110/110 [==============================] - 1s 9ms/step - loss: 0.2985 - accuracy: 0.8960 - precision: 0.9323 - f1_metric: 0.8971\n",
            "Epoch 12/50\n",
            "110/110 [==============================] - 1s 9ms/step - loss: 0.2925 - accuracy: 0.9010 - precision: 0.9344 - f1_metric: 0.9003\n",
            "Epoch 13/50\n",
            "110/110 [==============================] - 1s 9ms/step - loss: 0.2938 - accuracy: 0.8982 - precision: 0.9325 - f1_metric: 0.9000\n",
            "Epoch 14/50\n",
            "110/110 [==============================] - 1s 9ms/step - loss: 0.2958 - accuracy: 0.8977 - precision: 0.9321 - f1_metric: 0.8967\n",
            "Epoch 15/50\n",
            "110/110 [==============================] - 1s 9ms/step - loss: 0.2843 - accuracy: 0.8996 - precision: 0.9358 - f1_metric: 0.9019\n",
            "Epoch 16/50\n",
            "110/110 [==============================] - 1s 9ms/step - loss: 0.2885 - accuracy: 0.8998 - precision: 0.9349 - f1_metric: 0.8994\n",
            "Epoch 17/50\n",
            "110/110 [==============================] - 1s 9ms/step - loss: 0.2822 - accuracy: 0.9017 - precision: 0.9365 - f1_metric: 0.9024\n",
            "Epoch 18/50\n",
            "110/110 [==============================] - 1s 9ms/step - loss: 0.2802 - accuracy: 0.9029 - precision: 0.9357 - f1_metric: 0.9008\n",
            "Epoch 19/50\n",
            "110/110 [==============================] - 1s 9ms/step - loss: 0.2741 - accuracy: 0.9057 - precision: 0.9396 - f1_metric: 0.9052\n",
            "Epoch 20/50\n",
            "110/110 [==============================] - 1s 9ms/step - loss: 0.2666 - accuracy: 0.9089 - precision: 0.9409 - f1_metric: 0.9078\n",
            "Epoch 21/50\n",
            "110/110 [==============================] - 1s 9ms/step - loss: 0.2719 - accuracy: 0.9085 - precision: 0.9405 - f1_metric: 0.9077\n",
            "Epoch 22/50\n",
            "110/110 [==============================] - 1s 9ms/step - loss: 0.2679 - accuracy: 0.9086 - precision: 0.9426 - f1_metric: 0.9084\n",
            "Epoch 23/50\n",
            "110/110 [==============================] - 1s 9ms/step - loss: 0.2714 - accuracy: 0.9076 - precision: 0.9387 - f1_metric: 0.9056\n",
            "Epoch 24/50\n",
            "110/110 [==============================] - 1s 9ms/step - loss: 0.2645 - accuracy: 0.9083 - precision: 0.9390 - f1_metric: 0.9078\n",
            "Epoch 25/50\n",
            "110/110 [==============================] - 1s 9ms/step - loss: 0.2597 - accuracy: 0.9124 - precision: 0.9458 - f1_metric: 0.9116\n",
            "Epoch 26/50\n",
            "110/110 [==============================] - 1s 9ms/step - loss: 0.2630 - accuracy: 0.9099 - precision: 0.9412 - f1_metric: 0.9091\n",
            "Epoch 27/50\n",
            "110/110 [==============================] - 1s 9ms/step - loss: 0.2562 - accuracy: 0.9129 - precision: 0.9433 - f1_metric: 0.9116\n",
            "Epoch 28/50\n",
            "110/110 [==============================] - 1s 9ms/step - loss: 0.2472 - accuracy: 0.9164 - precision: 0.9447 - f1_metric: 0.9147\n",
            "Epoch 29/50\n",
            "110/110 [==============================] - 1s 9ms/step - loss: 0.2612 - accuracy: 0.9105 - precision: 0.9412 - f1_metric: 0.9095\n",
            "Epoch 30/50\n",
            "110/110 [==============================] - 1s 9ms/step - loss: 0.2489 - accuracy: 0.9165 - precision: 0.9463 - f1_metric: 0.9145\n",
            "Epoch 31/50\n",
            "110/110 [==============================] - 1s 9ms/step - loss: 0.2539 - accuracy: 0.9127 - precision: 0.9439 - f1_metric: 0.9116\n",
            "Epoch 32/50\n",
            "110/110 [==============================] - 1s 9ms/step - loss: 0.2550 - accuracy: 0.9141 - precision: 0.9447 - f1_metric: 0.9133\n",
            "Epoch 33/50\n",
            "110/110 [==============================] - 1s 9ms/step - loss: 0.2459 - accuracy: 0.9164 - precision: 0.9441 - f1_metric: 0.9132\n",
            "Epoch 34/50\n",
            "110/110 [==============================] - 1s 9ms/step - loss: 0.2620 - accuracy: 0.9083 - precision: 0.9417 - f1_metric: 0.9077\n",
            "Epoch 35/50\n",
            "110/110 [==============================] - 1s 9ms/step - loss: 0.2476 - accuracy: 0.9139 - precision: 0.9453 - f1_metric: 0.9131\n",
            "Epoch 36/50\n",
            "110/110 [==============================] - 1s 9ms/step - loss: 0.2439 - accuracy: 0.9161 - precision: 0.9446 - f1_metric: 0.9147\n",
            "Epoch 37/50\n",
            "110/110 [==============================] - 1s 9ms/step - loss: 0.2358 - accuracy: 0.9196 - precision: 0.9459 - f1_metric: 0.9166\n",
            "Epoch 38/50\n",
            "110/110 [==============================] - 1s 9ms/step - loss: 0.2398 - accuracy: 0.9187 - precision: 0.9480 - f1_metric: 0.9175\n",
            "Epoch 39/50\n",
            "110/110 [==============================] - 1s 9ms/step - loss: 0.2431 - accuracy: 0.9136 - precision: 0.9438 - f1_metric: 0.9138\n",
            "Epoch 40/50\n",
            "110/110 [==============================] - 1s 9ms/step - loss: 0.2379 - accuracy: 0.9171 - precision: 0.9469 - f1_metric: 0.9160\n",
            "Epoch 41/50\n",
            "110/110 [==============================] - 1s 9ms/step - loss: 0.2436 - accuracy: 0.9154 - precision: 0.9456 - f1_metric: 0.9137\n",
            "Epoch 42/50\n",
            "110/110 [==============================] - 1s 11ms/step - loss: 0.2259 - accuracy: 0.9208 - precision: 0.9493 - f1_metric: 0.9207\n",
            "Epoch 43/50\n",
            "110/110 [==============================] - 1s 10ms/step - loss: 0.2467 - accuracy: 0.9150 - precision: 0.9459 - f1_metric: 0.9145\n",
            "Epoch 44/50\n",
            "110/110 [==============================] - 1s 10ms/step - loss: 0.2330 - accuracy: 0.9219 - precision: 0.9507 - f1_metric: 0.9207\n",
            "Epoch 45/50\n",
            "110/110 [==============================] - 1s 9ms/step - loss: 0.2265 - accuracy: 0.9237 - precision: 0.9493 - f1_metric: 0.9213\n",
            "Epoch 46/50\n",
            "110/110 [==============================] - 1s 9ms/step - loss: 0.2304 - accuracy: 0.9215 - precision: 0.9477 - f1_metric: 0.9195\n",
            "Epoch 47/50\n",
            "110/110 [==============================] - 1s 9ms/step - loss: 0.2295 - accuracy: 0.9196 - precision: 0.9477 - f1_metric: 0.9188\n",
            "Epoch 48/50\n",
            "110/110 [==============================] - 1s 9ms/step - loss: 0.2331 - accuracy: 0.9210 - precision: 0.9456 - f1_metric: 0.9177\n",
            "Epoch 49/50\n",
            "110/110 [==============================] - 1s 9ms/step - loss: 0.2312 - accuracy: 0.9227 - precision: 0.9499 - f1_metric: 0.9213\n",
            "Epoch 50/50\n",
            "110/110 [==============================] - 1s 9ms/step - loss: 0.2231 - accuracy: 0.9245 - precision: 0.9516 - f1_metric: 0.9236\n"
          ]
        },
        {
          "output_type": "execute_result",
          "data": {
            "text/plain": [
              "<keras.callbacks.History at 0x7f5ed6074c10>"
            ]
          },
          "metadata": {},
          "execution_count": 24
        }
      ]
    },
    {
      "cell_type": "markdown",
      "source": [
        "## CREATE THE MODEL FOR THE FIFTH ARCITECTURE\n"
      ],
      "metadata": {
        "id": "C_kDu_xo1kyJ"
      }
    },
    {
      "cell_type": "code",
      "source": [
        "def model_5th_arch(input_shape = (28,28,1), classes = 10):\n",
        "\n",
        "  X_input = Input(input_shape)\n",
        "  X = Conv2D(32, (3,3) , padding=\"same\", activation = 'relu')(X_input)\n",
        "  X = Conv2D(32, (3,3) , padding=\"same\", activation = 'relu')(X)\n",
        "  X = MaxPooling2D(pool_size=(2, 2))(X)\n",
        "  X = Dropout(0.25)(X)\n",
        "\n",
        "  X = Conv2D(64, (3,3),  padding=\"same\", activation = 'relu')(X)\n",
        "  X = Conv2D(64, (3,3),  padding=\"same\", activation = 'relu')(X)\n",
        "  X = MaxPooling2D(pool_size=(2, 2))(X)\n",
        "  X = Dropout(0.25)(X)\n",
        "\n",
        "  X = Flatten()(X)\n",
        "  X = Dense(512 , activation=\"softmax\")(X)\n",
        "  X = Dropout(0.5)(X)\n",
        "  X = Dense(10 , activation = 'softmax')(X)\n",
        "\n",
        "##\n",
        "  model = models.Model(inputs = X_input, outputs = X)\n",
        "  return model"
      ],
      "metadata": {
        "id": "idRYiQ6Lyi0O"
      },
      "execution_count": 20,
      "outputs": []
    },
    {
      "cell_type": "code",
      "source": [
        "model3 = model_5th_arch()\n",
        "print(model3.summary())"
      ],
      "metadata": {
        "colab": {
          "base_uri": "https://localhost:8080/"
        },
        "id": "KbXXF9M84Y_-",
        "outputId": "08573a11-712a-4189-d192-19c07aabb693"
      },
      "execution_count": 21,
      "outputs": [
        {
          "output_type": "stream",
          "name": "stdout",
          "text": [
            "Model: \"model_2\"\n",
            "_________________________________________________________________\n",
            " Layer (type)                Output Shape              Param #   \n",
            "=================================================================\n",
            " input_3 (InputLayer)        [(None, 28, 28, 1)]       0         \n",
            "                                                                 \n",
            " conv2d_7 (Conv2D)           (None, 28, 28, 32)        320       \n",
            "                                                                 \n",
            " conv2d_8 (Conv2D)           (None, 28, 28, 32)        9248      \n",
            "                                                                 \n",
            " max_pooling2d_5 (MaxPooling  (None, 14, 14, 32)       0         \n",
            " 2D)                                                             \n",
            "                                                                 \n",
            " dropout_9 (Dropout)         (None, 14, 14, 32)        0         \n",
            "                                                                 \n",
            " conv2d_9 (Conv2D)           (None, 14, 14, 64)        18496     \n",
            "                                                                 \n",
            " conv2d_10 (Conv2D)          (None, 14, 14, 64)        36928     \n",
            "                                                                 \n",
            " max_pooling2d_6 (MaxPooling  (None, 7, 7, 64)         0         \n",
            " 2D)                                                             \n",
            "                                                                 \n",
            " dropout_10 (Dropout)        (None, 7, 7, 64)          0         \n",
            "                                                                 \n",
            " flatten_2 (Flatten)         (None, 3136)              0         \n",
            "                                                                 \n",
            " dense_4 (Dense)             (None, 512)               1606144   \n",
            "                                                                 \n",
            " dropout_11 (Dropout)        (None, 512)               0         \n",
            "                                                                 \n",
            " dense_5 (Dense)             (None, 10)                5130      \n",
            "                                                                 \n",
            "=================================================================\n",
            "Total params: 1,676,266\n",
            "Trainable params: 1,676,266\n",
            "Non-trainable params: 0\n",
            "_________________________________________________________________\n",
            "None\n"
          ]
        }
      ]
    },
    {
      "cell_type": "markdown",
      "source": [
        "###Train dataset with SGD optimizer"
      ],
      "metadata": {
        "id": "jyxc2ZOIvniS"
      }
    },
    {
      "cell_type": "code",
      "source": [
        "model3.compile(optimizer = SGD(learning_rate=1e-3), loss = 'categorical_crossentropy', metrics = ['accuracy'])\n",
        "model3.fit(trainX, trainY, epochs = 50, batch_size= 128)"
      ],
      "metadata": {
        "colab": {
          "base_uri": "https://localhost:8080/"
        },
        "id": "WT6_dBckbwQs",
        "outputId": "f5890559-7350-4015-c5e4-f2c0b03f7e49"
      },
      "execution_count": null,
      "outputs": [
        {
          "output_type": "stream",
          "name": "stdout",
          "text": [
            "Epoch 1/50\n",
            "469/469 [==============================] - 5s 10ms/step - loss: 2.3026 - accuracy: 0.1003\n",
            "Epoch 2/50\n",
            "469/469 [==============================] - 5s 10ms/step - loss: 2.3026 - accuracy: 0.1000\n",
            "Epoch 3/50\n",
            "469/469 [==============================] - 5s 10ms/step - loss: 2.3026 - accuracy: 0.1024\n",
            "Epoch 4/50\n",
            "469/469 [==============================] - 5s 10ms/step - loss: 2.3026 - accuracy: 0.1015\n",
            "Epoch 5/50\n",
            "469/469 [==============================] - 5s 10ms/step - loss: 2.3026 - accuracy: 0.1010\n",
            "Epoch 6/50\n",
            "469/469 [==============================] - 5s 10ms/step - loss: 2.3026 - accuracy: 0.0988\n",
            "Epoch 7/50\n",
            "469/469 [==============================] - 5s 10ms/step - loss: 2.3026 - accuracy: 0.1000\n",
            "Epoch 8/50\n",
            "469/469 [==============================] - 5s 10ms/step - loss: 2.3026 - accuracy: 0.0977\n",
            "Epoch 9/50\n",
            "469/469 [==============================] - 5s 11ms/step - loss: 2.3026 - accuracy: 0.0984\n",
            "Epoch 10/50\n",
            "469/469 [==============================] - 5s 10ms/step - loss: 2.3026 - accuracy: 0.0994\n",
            "Epoch 11/50\n",
            "469/469 [==============================] - 5s 10ms/step - loss: 2.3026 - accuracy: 0.1005\n",
            "Epoch 12/50\n",
            "469/469 [==============================] - 5s 10ms/step - loss: 2.3026 - accuracy: 0.0997\n",
            "Epoch 13/50\n",
            "469/469 [==============================] - 5s 11ms/step - loss: 2.3026 - accuracy: 0.0984\n",
            "Epoch 14/50\n",
            "469/469 [==============================] - 5s 10ms/step - loss: 2.3026 - accuracy: 0.1010\n",
            "Epoch 15/50\n",
            "469/469 [==============================] - 5s 10ms/step - loss: 2.3026 - accuracy: 0.0981\n",
            "Epoch 16/50\n",
            "469/469 [==============================] - 5s 10ms/step - loss: 2.3026 - accuracy: 0.1012\n",
            "Epoch 17/50\n",
            "469/469 [==============================] - 5s 10ms/step - loss: 2.3026 - accuracy: 0.0994\n",
            "Epoch 18/50\n",
            "469/469 [==============================] - 5s 10ms/step - loss: 2.3026 - accuracy: 0.0999\n",
            "Epoch 19/50\n",
            "469/469 [==============================] - 5s 10ms/step - loss: 2.3026 - accuracy: 0.0995\n",
            "Epoch 20/50\n",
            "469/469 [==============================] - 5s 10ms/step - loss: 2.3026 - accuracy: 0.1029\n",
            "Epoch 21/50\n",
            "469/469 [==============================] - 5s 10ms/step - loss: 2.3026 - accuracy: 0.1011\n",
            "Epoch 22/50\n",
            "469/469 [==============================] - 5s 11ms/step - loss: 2.3026 - accuracy: 0.0998\n",
            "Epoch 23/50\n",
            "469/469 [==============================] - 5s 10ms/step - loss: 2.3026 - accuracy: 0.0997\n",
            "Epoch 24/50\n",
            "469/469 [==============================] - 5s 10ms/step - loss: 2.3026 - accuracy: 0.0993\n",
            "Epoch 25/50\n",
            "469/469 [==============================] - 5s 10ms/step - loss: 2.3026 - accuracy: 0.1017\n",
            "Epoch 26/50\n",
            "469/469 [==============================] - 5s 10ms/step - loss: 2.3026 - accuracy: 0.0983\n",
            "Epoch 27/50\n",
            "469/469 [==============================] - 5s 10ms/step - loss: 2.3026 - accuracy: 0.0989\n",
            "Epoch 28/50\n",
            "469/469 [==============================] - 5s 10ms/step - loss: 2.3026 - accuracy: 0.1006\n",
            "Epoch 29/50\n",
            "469/469 [==============================] - 5s 11ms/step - loss: 2.3026 - accuracy: 0.1007\n",
            "Epoch 30/50\n",
            "469/469 [==============================] - 5s 10ms/step - loss: 2.3026 - accuracy: 0.1012\n",
            "Epoch 31/50\n",
            "469/469 [==============================] - 5s 11ms/step - loss: 2.3026 - accuracy: 0.1015\n",
            "Epoch 32/50\n",
            "469/469 [==============================] - 5s 10ms/step - loss: 2.3026 - accuracy: 0.0979\n",
            "Epoch 33/50\n",
            "469/469 [==============================] - 5s 10ms/step - loss: 2.3026 - accuracy: 0.0994\n",
            "Epoch 34/50\n",
            "469/469 [==============================] - 5s 10ms/step - loss: 2.3026 - accuracy: 0.0990\n",
            "Epoch 35/50\n",
            "469/469 [==============================] - 5s 11ms/step - loss: 2.3026 - accuracy: 0.1019\n",
            "Epoch 36/50\n",
            "469/469 [==============================] - 5s 11ms/step - loss: 2.3026 - accuracy: 0.0992\n",
            "Epoch 37/50\n",
            "469/469 [==============================] - 5s 10ms/step - loss: 2.3026 - accuracy: 0.0983\n",
            "Epoch 38/50\n",
            "469/469 [==============================] - 5s 10ms/step - loss: 2.3026 - accuracy: 0.1001\n",
            "Epoch 39/50\n",
            "469/469 [==============================] - 5s 10ms/step - loss: 2.3026 - accuracy: 0.1025\n",
            "Epoch 40/50\n",
            "469/469 [==============================] - 5s 10ms/step - loss: 2.3026 - accuracy: 0.0977\n",
            "Epoch 41/50\n",
            "469/469 [==============================] - 5s 10ms/step - loss: 2.3026 - accuracy: 0.1004\n",
            "Epoch 42/50\n",
            "469/469 [==============================] - 5s 10ms/step - loss: 2.3026 - accuracy: 0.1012\n",
            "Epoch 43/50\n",
            "469/469 [==============================] - 5s 10ms/step - loss: 2.3026 - accuracy: 0.0995\n",
            "Epoch 44/50\n",
            "469/469 [==============================] - 5s 10ms/step - loss: 2.3026 - accuracy: 0.1010\n",
            "Epoch 45/50\n",
            "469/469 [==============================] - 5s 10ms/step - loss: 2.3026 - accuracy: 0.1004\n",
            "Epoch 46/50\n",
            "469/469 [==============================] - 5s 10ms/step - loss: 2.3026 - accuracy: 0.1005\n",
            "Epoch 47/50\n",
            "469/469 [==============================] - 5s 10ms/step - loss: 2.3026 - accuracy: 0.0993\n",
            "Epoch 48/50\n",
            "469/469 [==============================] - 5s 11ms/step - loss: 2.3026 - accuracy: 0.1000\n",
            "Epoch 49/50\n",
            "469/469 [==============================] - 5s 11ms/step - loss: 2.3026 - accuracy: 0.0997\n",
            "Epoch 50/50\n",
            "469/469 [==============================] - 5s 10ms/step - loss: 2.3026 - accuracy: 0.0988\n"
          ]
        },
        {
          "output_type": "execute_result",
          "data": {
            "text/plain": [
              "<keras.callbacks.History at 0x7f092aab8950>"
            ]
          },
          "metadata": {},
          "execution_count": 25
        }
      ]
    },
    {
      "cell_type": "markdown",
      "source": [
        "###Train dataset with Adam optimizer"
      ],
      "metadata": {
        "id": "JUNou9C2vrHk"
      }
    },
    {
      "cell_type": "code",
      "source": [
        "model3.compile(optimizer = Adam(learning_rate=1e-3), loss = 'categorical_crossentropy', metrics = ['accuracy','Precision',f1_metric ])\n",
        "model3.fit(trainX, trainY, epochs = 50, batch_size= 128)"
      ],
      "metadata": {
        "colab": {
          "base_uri": "https://localhost:8080/"
        },
        "id": "AAcw9sp84cn4",
        "outputId": "4e292d6c-2c59-41b2-a47b-acf0fc225e91"
      },
      "execution_count": 22,
      "outputs": [
        {
          "output_type": "stream",
          "name": "stdout",
          "text": [
            "Epoch 1/50\n",
            "438/438 [==============================] - 6s 11ms/step - loss: 2.0958 - accuracy: 0.2369 - precision: 0.0000e+00 - f1_metric: 0.0000e+00\n",
            "Epoch 2/50\n",
            "438/438 [==============================] - 5s 11ms/step - loss: 1.9158 - accuracy: 0.2425 - precision: 0.0000e+00 - f1_metric: 0.0000e+00\n",
            "Epoch 3/50\n",
            "438/438 [==============================] - 5s 11ms/step - loss: 1.8447 - accuracy: 0.2437 - precision: 0.7489 - f1_metric: 0.0781\n",
            "Epoch 4/50\n",
            "438/438 [==============================] - 5s 11ms/step - loss: 1.7525 - accuracy: 0.2953 - precision: 0.9501 - f1_metric: 0.1346\n",
            "Epoch 5/50\n",
            "438/438 [==============================] - 5s 11ms/step - loss: 1.6296 - accuracy: 0.3469 - precision: 0.9270 - f1_metric: 0.2460\n",
            "Epoch 6/50\n",
            "438/438 [==============================] - 5s 11ms/step - loss: 1.5549 - accuracy: 0.3636 - precision: 0.9046 - f1_metric: 0.3192\n",
            "Epoch 7/50\n",
            "438/438 [==============================] - 5s 11ms/step - loss: 1.5059 - accuracy: 0.3909 - precision: 0.9041 - f1_metric: 0.3739\n",
            "Epoch 8/50\n",
            "438/438 [==============================] - 5s 11ms/step - loss: 1.4073 - accuracy: 0.4568 - precision: 0.9323 - f1_metric: 0.4704\n",
            "Epoch 9/50\n",
            "438/438 [==============================] - 5s 11ms/step - loss: 1.3563 - accuracy: 0.4655 - precision: 0.9294 - f1_metric: 0.4973\n",
            "Epoch 10/50\n",
            "438/438 [==============================] - 5s 11ms/step - loss: 1.2917 - accuracy: 0.4991 - precision: 0.9125 - f1_metric: 0.5499\n",
            "Epoch 11/50\n",
            "438/438 [==============================] - 5s 11ms/step - loss: 1.2113 - accuracy: 0.5395 - precision: 0.9115 - f1_metric: 0.5800\n",
            "Epoch 12/50\n",
            "438/438 [==============================] - 5s 11ms/step - loss: 1.1433 - accuracy: 0.5686 - precision: 0.9035 - f1_metric: 0.6112\n",
            "Epoch 13/50\n",
            "438/438 [==============================] - 5s 11ms/step - loss: 1.1132 - accuracy: 0.5809 - precision: 0.8925 - f1_metric: 0.6232\n",
            "Epoch 14/50\n",
            "438/438 [==============================] - 5s 11ms/step - loss: 1.0873 - accuracy: 0.5842 - precision: 0.8875 - f1_metric: 0.6338\n",
            "Epoch 15/50\n",
            "438/438 [==============================] - 5s 12ms/step - loss: 1.0552 - accuracy: 0.5909 - precision: 0.8887 - f1_metric: 0.6424\n",
            "Epoch 16/50\n",
            "438/438 [==============================] - 5s 11ms/step - loss: 1.0057 - accuracy: 0.6194 - precision: 0.8889 - f1_metric: 0.6660\n",
            "Epoch 17/50\n",
            "438/438 [==============================] - 5s 11ms/step - loss: 0.9760 - accuracy: 0.6360 - precision: 0.8936 - f1_metric: 0.6770\n",
            "Epoch 18/50\n",
            "438/438 [==============================] - 5s 11ms/step - loss: 0.9310 - accuracy: 0.6537 - precision: 0.9054 - f1_metric: 0.7014\n",
            "Epoch 19/50\n",
            "438/438 [==============================] - 5s 11ms/step - loss: 0.9148 - accuracy: 0.6534 - precision: 0.9025 - f1_metric: 0.7019\n",
            "Epoch 20/50\n",
            "438/438 [==============================] - 5s 11ms/step - loss: 0.8971 - accuracy: 0.6520 - precision: 0.9024 - f1_metric: 0.7054\n",
            "Epoch 21/50\n",
            "438/438 [==============================] - 5s 11ms/step - loss: 0.8671 - accuracy: 0.6786 - precision: 0.9076 - f1_metric: 0.7087\n",
            "Epoch 22/50\n",
            "438/438 [==============================] - 5s 11ms/step - loss: 0.8294 - accuracy: 0.6995 - precision: 0.9092 - f1_metric: 0.7246\n",
            "Epoch 23/50\n",
            "438/438 [==============================] - 5s 11ms/step - loss: 0.8079 - accuracy: 0.7134 - precision: 0.9110 - f1_metric: 0.7298\n",
            "Epoch 24/50\n",
            "438/438 [==============================] - 5s 11ms/step - loss: 0.7718 - accuracy: 0.7277 - precision: 0.9122 - f1_metric: 0.7455\n",
            "Epoch 25/50\n",
            "438/438 [==============================] - 5s 11ms/step - loss: 0.7519 - accuracy: 0.7348 - precision: 0.9114 - f1_metric: 0.7553\n",
            "Epoch 26/50\n",
            "438/438 [==============================] - 5s 11ms/step - loss: 0.7291 - accuracy: 0.7412 - precision: 0.9155 - f1_metric: 0.7628\n",
            "Epoch 27/50\n",
            "438/438 [==============================] - 5s 11ms/step - loss: 0.7027 - accuracy: 0.7519 - precision: 0.9183 - f1_metric: 0.7714\n",
            "Epoch 28/50\n",
            "438/438 [==============================] - 5s 11ms/step - loss: 0.6686 - accuracy: 0.7733 - precision: 0.9235 - f1_metric: 0.7822\n",
            "Epoch 29/50\n",
            "438/438 [==============================] - 5s 12ms/step - loss: 0.6473 - accuracy: 0.7796 - precision: 0.9250 - f1_metric: 0.7891\n",
            "Epoch 30/50\n",
            "438/438 [==============================] - 5s 11ms/step - loss: 0.6284 - accuracy: 0.7820 - precision: 0.9234 - f1_metric: 0.7929\n",
            "Epoch 31/50\n",
            "438/438 [==============================] - 5s 11ms/step - loss: 0.6196 - accuracy: 0.7840 - precision: 0.9219 - f1_metric: 0.7961\n",
            "Epoch 32/50\n",
            "438/438 [==============================] - 5s 11ms/step - loss: 0.6106 - accuracy: 0.7849 - precision: 0.9208 - f1_metric: 0.7978\n",
            "Epoch 33/50\n",
            "438/438 [==============================] - 5s 11ms/step - loss: 0.6054 - accuracy: 0.7845 - precision: 0.9207 - f1_metric: 0.7977\n",
            "Epoch 34/50\n",
            "438/438 [==============================] - 5s 11ms/step - loss: 0.5914 - accuracy: 0.7901 - precision: 0.9214 - f1_metric: 0.8050\n",
            "Epoch 35/50\n",
            "438/438 [==============================] - 5s 11ms/step - loss: 0.5845 - accuracy: 0.7898 - precision: 0.9233 - f1_metric: 0.8121\n",
            "Epoch 36/50\n",
            "438/438 [==============================] - 5s 11ms/step - loss: 0.5816 - accuracy: 0.7881 - precision: 0.9190 - f1_metric: 0.8112\n",
            "Epoch 37/50\n",
            "438/438 [==============================] - 5s 11ms/step - loss: 0.5678 - accuracy: 0.7959 - precision: 0.9206 - f1_metric: 0.8151\n",
            "Epoch 38/50\n",
            "438/438 [==============================] - 5s 11ms/step - loss: 0.5439 - accuracy: 0.8078 - precision: 0.9247 - f1_metric: 0.8212\n",
            "Epoch 39/50\n",
            "438/438 [==============================] - 5s 11ms/step - loss: 0.5374 - accuracy: 0.8118 - precision: 0.9240 - f1_metric: 0.8212\n",
            "Epoch 40/50\n",
            "438/438 [==============================] - 5s 11ms/step - loss: 0.5182 - accuracy: 0.8187 - precision: 0.9251 - f1_metric: 0.8260\n",
            "Epoch 41/50\n",
            "438/438 [==============================] - 5s 11ms/step - loss: 0.5120 - accuracy: 0.8214 - precision: 0.9251 - f1_metric: 0.8271\n",
            "Epoch 42/50\n",
            "438/438 [==============================] - 5s 11ms/step - loss: 0.4927 - accuracy: 0.8309 - precision: 0.9294 - f1_metric: 0.8346\n",
            "Epoch 43/50\n",
            "438/438 [==============================] - 5s 11ms/step - loss: 0.4795 - accuracy: 0.8381 - precision: 0.9329 - f1_metric: 0.8402\n",
            "Epoch 44/50\n",
            "438/438 [==============================] - 5s 12ms/step - loss: 0.4657 - accuracy: 0.8450 - precision: 0.9350 - f1_metric: 0.8455\n",
            "Epoch 45/50\n",
            "438/438 [==============================] - 5s 11ms/step - loss: 0.4515 - accuracy: 0.8532 - precision: 0.9352 - f1_metric: 0.8508\n",
            "Epoch 46/50\n",
            "438/438 [==============================] - 5s 11ms/step - loss: 0.4367 - accuracy: 0.8634 - precision: 0.9360 - f1_metric: 0.8598\n",
            "Epoch 47/50\n",
            "438/438 [==============================] - 5s 11ms/step - loss: 0.4273 - accuracy: 0.8622 - precision: 0.9360 - f1_metric: 0.8619\n",
            "Epoch 48/50\n",
            "438/438 [==============================] - 5s 11ms/step - loss: 0.4146 - accuracy: 0.8665 - precision: 0.9386 - f1_metric: 0.8669\n",
            "Epoch 49/50\n",
            "438/438 [==============================] - 5s 11ms/step - loss: 0.4058 - accuracy: 0.8692 - precision: 0.9395 - f1_metric: 0.8706\n",
            "Epoch 50/50\n",
            "438/438 [==============================] - 5s 11ms/step - loss: 0.4031 - accuracy: 0.8705 - precision: 0.9393 - f1_metric: 0.8710\n"
          ]
        },
        {
          "output_type": "execute_result",
          "data": {
            "text/plain": [
              "<keras.callbacks.History at 0x7f5ed6074c90>"
            ]
          },
          "metadata": {},
          "execution_count": 22
        }
      ]
    },
    {
      "cell_type": "markdown",
      "source": [
        "##Test Dataset with Adam optimizer"
      ],
      "metadata": {
        "id": "85ODI6EoH1Is"
      }
    },
    {
      "cell_type": "code",
      "source": [
        "model3.compile(optimizer = Adam(learning_rate=1e-3), loss = 'categorical_crossentropy', metrics = ['accuracy','Precision',f1_metric ])\n",
        "model3.fit(testX, testY, epochs = 50, batch_size= 128)"
      ],
      "metadata": {
        "id": "GSbEcCRg4rqv",
        "colab": {
          "base_uri": "https://localhost:8080/"
        },
        "outputId": "ff67feaa-2d58-4b39-9e04-97e4c9aa00a0"
      },
      "execution_count": 23,
      "outputs": [
        {
          "output_type": "stream",
          "name": "stdout",
          "text": [
            "Epoch 1/50\n",
            "110/110 [==============================] - 2s 13ms/step - loss: 0.4773 - accuracy: 0.8455 - precision: 0.9162 - f1_metric: 0.8470\n",
            "Epoch 2/50\n",
            "110/110 [==============================] - 1s 11ms/step - loss: 0.4491 - accuracy: 0.8552 - precision: 0.9229 - f1_metric: 0.8563\n",
            "Epoch 3/50\n",
            "110/110 [==============================] - 1s 11ms/step - loss: 0.4353 - accuracy: 0.8591 - precision: 0.9261 - f1_metric: 0.8606\n",
            "Epoch 4/50\n",
            "110/110 [==============================] - 1s 11ms/step - loss: 0.4484 - accuracy: 0.8549 - precision: 0.9271 - f1_metric: 0.8565\n",
            "Epoch 5/50\n",
            "110/110 [==============================] - 1s 11ms/step - loss: 0.4295 - accuracy: 0.8619 - precision: 0.9309 - f1_metric: 0.8627\n",
            "Epoch 6/50\n",
            "110/110 [==============================] - 1s 11ms/step - loss: 0.4166 - accuracy: 0.8655 - precision: 0.9368 - f1_metric: 0.8664\n",
            "Epoch 7/50\n",
            "110/110 [==============================] - 1s 11ms/step - loss: 0.4219 - accuracy: 0.8632 - precision: 0.9337 - f1_metric: 0.8645\n",
            "Epoch 8/50\n",
            "110/110 [==============================] - 1s 11ms/step - loss: 0.4070 - accuracy: 0.8674 - precision: 0.9351 - f1_metric: 0.8692\n",
            "Epoch 9/50\n",
            "110/110 [==============================] - 1s 11ms/step - loss: 0.4079 - accuracy: 0.8676 - precision: 0.9370 - f1_metric: 0.8702\n",
            "Epoch 10/50\n",
            "110/110 [==============================] - 1s 11ms/step - loss: 0.4014 - accuracy: 0.8691 - precision: 0.9377 - f1_metric: 0.8708\n",
            "Epoch 11/50\n",
            "110/110 [==============================] - 1s 11ms/step - loss: 0.3893 - accuracy: 0.8738 - precision: 0.9407 - f1_metric: 0.8751\n",
            "Epoch 12/50\n",
            "110/110 [==============================] - 1s 11ms/step - loss: 0.3872 - accuracy: 0.8770 - precision: 0.9435 - f1_metric: 0.8754\n",
            "Epoch 13/50\n",
            "110/110 [==============================] - 1s 11ms/step - loss: 0.3846 - accuracy: 0.8725 - precision: 0.9440 - f1_metric: 0.8781\n",
            "Epoch 14/50\n",
            "110/110 [==============================] - 1s 11ms/step - loss: 0.3959 - accuracy: 0.8707 - precision: 0.9437 - f1_metric: 0.8757\n",
            "Epoch 15/50\n",
            "110/110 [==============================] - 1s 11ms/step - loss: 0.3811 - accuracy: 0.8742 - precision: 0.9476 - f1_metric: 0.8790\n",
            "Epoch 16/50\n",
            "110/110 [==============================] - 1s 11ms/step - loss: 0.3681 - accuracy: 0.8795 - precision: 0.9447 - f1_metric: 0.8822\n",
            "Epoch 17/50\n",
            "110/110 [==============================] - 1s 11ms/step - loss: 0.3589 - accuracy: 0.8848 - precision: 0.9506 - f1_metric: 0.8881\n",
            "Epoch 18/50\n",
            "110/110 [==============================] - 1s 11ms/step - loss: 0.3680 - accuracy: 0.8800 - precision: 0.9481 - f1_metric: 0.8836\n",
            "Epoch 19/50\n",
            "110/110 [==============================] - 1s 11ms/step - loss: 0.3622 - accuracy: 0.8830 - precision: 0.9509 - f1_metric: 0.8857\n",
            "Epoch 20/50\n",
            "110/110 [==============================] - 1s 11ms/step - loss: 0.3583 - accuracy: 0.8842 - precision: 0.9502 - f1_metric: 0.8877\n",
            "Epoch 21/50\n",
            "110/110 [==============================] - 1s 11ms/step - loss: 0.3443 - accuracy: 0.8895 - precision: 0.9534 - f1_metric: 0.8922\n",
            "Epoch 22/50\n",
            "110/110 [==============================] - 1s 11ms/step - loss: 0.3498 - accuracy: 0.8851 - precision: 0.9508 - f1_metric: 0.8887\n",
            "Epoch 23/50\n",
            "110/110 [==============================] - 1s 11ms/step - loss: 0.3338 - accuracy: 0.8920 - precision: 0.9594 - f1_metric: 0.8976\n",
            "Epoch 24/50\n",
            "110/110 [==============================] - 1s 11ms/step - loss: 0.3373 - accuracy: 0.8889 - precision: 0.9558 - f1_metric: 0.8936\n",
            "Epoch 25/50\n",
            "110/110 [==============================] - 1s 11ms/step - loss: 0.3369 - accuracy: 0.8908 - precision: 0.9556 - f1_metric: 0.8937\n",
            "Epoch 26/50\n",
            "110/110 [==============================] - 1s 11ms/step - loss: 0.3283 - accuracy: 0.8964 - precision: 0.9594 - f1_metric: 0.8973\n",
            "Epoch 27/50\n",
            "110/110 [==============================] - 1s 11ms/step - loss: 0.3292 - accuracy: 0.8930 - precision: 0.9567 - f1_metric: 0.8947\n",
            "Epoch 28/50\n",
            "110/110 [==============================] - 1s 11ms/step - loss: 0.3242 - accuracy: 0.8974 - precision: 0.9591 - f1_metric: 0.8991\n",
            "Epoch 29/50\n",
            "110/110 [==============================] - 1s 12ms/step - loss: 0.3222 - accuracy: 0.8978 - precision: 0.9593 - f1_metric: 0.8975\n",
            "Epoch 30/50\n",
            "110/110 [==============================] - 1s 13ms/step - loss: 0.3261 - accuracy: 0.8973 - precision: 0.9577 - f1_metric: 0.8977\n",
            "Epoch 31/50\n",
            "110/110 [==============================] - 1s 12ms/step - loss: 0.3157 - accuracy: 0.8983 - precision: 0.9635 - f1_metric: 0.9022\n",
            "Epoch 32/50\n",
            "110/110 [==============================] - 1s 11ms/step - loss: 0.3093 - accuracy: 0.9020 - precision: 0.9595 - f1_metric: 0.8997\n",
            "Epoch 33/50\n",
            "110/110 [==============================] - 1s 11ms/step - loss: 0.3044 - accuracy: 0.9039 - precision: 0.9627 - f1_metric: 0.9039\n",
            "Epoch 34/50\n",
            "110/110 [==============================] - 1s 11ms/step - loss: 0.3058 - accuracy: 0.9018 - precision: 0.9613 - f1_metric: 0.9036\n",
            "Epoch 35/50\n",
            "110/110 [==============================] - 1s 11ms/step - loss: 0.3023 - accuracy: 0.9025 - precision: 0.9643 - f1_metric: 0.9056\n",
            "Epoch 36/50\n",
            "110/110 [==============================] - 1s 11ms/step - loss: 0.3027 - accuracy: 0.9029 - precision: 0.9607 - f1_metric: 0.9040\n",
            "Epoch 37/50\n",
            "110/110 [==============================] - 1s 11ms/step - loss: 0.3006 - accuracy: 0.9039 - precision: 0.9636 - f1_metric: 0.9040\n",
            "Epoch 38/50\n",
            "110/110 [==============================] - 1s 11ms/step - loss: 0.2929 - accuracy: 0.9097 - precision: 0.9644 - f1_metric: 0.9084\n",
            "Epoch 39/50\n",
            "110/110 [==============================] - 1s 11ms/step - loss: 0.2959 - accuracy: 0.9064 - precision: 0.9668 - f1_metric: 0.9076\n",
            "Epoch 40/50\n",
            "110/110 [==============================] - 1s 11ms/step - loss: 0.2872 - accuracy: 0.9121 - precision: 0.9675 - f1_metric: 0.9100\n",
            "Epoch 41/50\n",
            "110/110 [==============================] - 1s 11ms/step - loss: 0.2822 - accuracy: 0.9136 - precision: 0.9647 - f1_metric: 0.9098\n",
            "Epoch 42/50\n",
            "110/110 [==============================] - 1s 11ms/step - loss: 0.2786 - accuracy: 0.9131 - precision: 0.9674 - f1_metric: 0.9114\n",
            "Epoch 43/50\n",
            "110/110 [==============================] - 1s 11ms/step - loss: 0.2864 - accuracy: 0.9114 - precision: 0.9665 - f1_metric: 0.9079\n",
            "Epoch 44/50\n",
            "110/110 [==============================] - 1s 11ms/step - loss: 0.2752 - accuracy: 0.9168 - precision: 0.9659 - f1_metric: 0.9112\n",
            "Epoch 45/50\n",
            "110/110 [==============================] - 1s 11ms/step - loss: 0.2834 - accuracy: 0.9168 - precision: 0.9652 - f1_metric: 0.9084\n",
            "Epoch 46/50\n",
            "110/110 [==============================] - 1s 11ms/step - loss: 0.2729 - accuracy: 0.9181 - precision: 0.9675 - f1_metric: 0.9129\n",
            "Epoch 47/50\n",
            "110/110 [==============================] - 1s 11ms/step - loss: 0.2770 - accuracy: 0.9182 - precision: 0.9680 - f1_metric: 0.9123\n",
            "Epoch 48/50\n",
            "110/110 [==============================] - 1s 11ms/step - loss: 0.2603 - accuracy: 0.9231 - precision: 0.9721 - f1_metric: 0.9185\n",
            "Epoch 49/50\n",
            "110/110 [==============================] - 1s 11ms/step - loss: 0.2635 - accuracy: 0.9228 - precision: 0.9687 - f1_metric: 0.9185\n",
            "Epoch 50/50\n",
            "110/110 [==============================] - 1s 11ms/step - loss: 0.2623 - accuracy: 0.9232 - precision: 0.9713 - f1_metric: 0.9185\n"
          ]
        },
        {
          "output_type": "execute_result",
          "data": {
            "text/plain": [
              "<keras.callbacks.History at 0x7f5ea0369290>"
            ]
          },
          "metadata": {},
          "execution_count": 23
        }
      ]
    },
    {
      "cell_type": "code",
      "source": [],
      "metadata": {
        "id": "2xtFiiz4IBJX"
      },
      "execution_count": null,
      "outputs": []
    }
  ]
}